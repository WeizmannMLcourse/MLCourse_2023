{
 "cells": [
  {
   "attachments": {},
   "cell_type": "markdown",
   "metadata": {},
   "source": [
    "# Linear regression with simple gradient descent"
   ]
  },
  {
   "attachments": {},
   "cell_type": "markdown",
   "metadata": {},
   "source": [
    "### Preamble"
   ]
  },
  {
   "cell_type": "code",
   "execution_count": null,
   "metadata": {
    "colab": {},
    "colab_type": "code",
    "id": "wGhfT4-hJ34u"
   },
   "outputs": [],
   "source": [
    "import numpy as np\n",
    "import matplotlib.pyplot as plt\n",
    "from sklearn.model_selection import train_test_split\n",
    "import tqdm"
   ]
  },
  {
   "cell_type": "code",
   "execution_count": null,
   "metadata": {
    "colab": {
     "base_uri": "https://localhost:8080/",
     "height": 52
    },
    "colab_type": "code",
    "id": "hQ54RIGH7B_j",
    "outputId": "56e3b138-55ef-4f48-fcbb-b2431d8f6f79"
   },
   "outputs": [],
   "source": [
    "plt.rcParams[\"figure.figsize\"] = (8,6)"
   ]
  },
  {
   "attachments": {},
   "cell_type": "markdown",
   "metadata": {
    "colab_type": "text",
    "id": "l5Nnl_GWJ34y"
   },
   "source": [
    "### 1) Create a funky and noisy dataset"
   ]
  },
  {
   "attachments": {},
   "cell_type": "markdown",
   "metadata": {
    "colab_type": "text",
    "id": "dX1vzNYL8kKT"
   },
   "source": [
    "$y = 0.02x +  \\frac{3}{10} sin(x) + \n",
    "\\frac{1}{10} \\Big( log(x) \\Big)^2 + \\epsilon$,\n",
    " \n",
    "where $\\epsilon$ is a random number"
   ]
  },
  {
   "cell_type": "code",
   "execution_count": null,
   "metadata": {
    "colab": {},
    "colab_type": "code",
    "id": "Qmn1gBK7J349"
   },
   "outputs": [],
   "source": [
    "N_data = 5000\n",
    "\n",
    "data_x = np.linspace(1.0, 50.0, N_data)[:, np.newaxis]\n",
    "data_y = 0.02*data_x + 0.3*np.sin(data_x) + 1e-1  * np.log( data_x ) **2 + 0.2*np.random.randn(N_data,1)\n",
    "#data_y = data_x + 0.1*np.random.randn(N_data,1)"
   ]
  },
  {
   "cell_type": "code",
   "execution_count": null,
   "metadata": {
    "colab": {
     "base_uri": "https://localhost:8080/",
     "height": 35
    },
    "colab_type": "code",
    "id": "AH3f5Jab6jDg",
    "outputId": "ffa7346f-c126-496a-aaa8-ec32408fa03a"
   },
   "outputs": [],
   "source": [
    "data_x.shape, data_y.shape"
   ]
  },
  {
   "cell_type": "code",
   "execution_count": null,
   "metadata": {
    "colab": {
     "base_uri": "https://localhost:8080/",
     "height": 623
    },
    "colab_type": "code",
    "id": "Y3H21tCd6occ",
    "outputId": "d77bbf08-c71f-4d07-a15c-0c2e2e1c4e18"
   },
   "outputs": [],
   "source": [
    "plt.scatter( data_x.flatten(), data_y.flatten(), s=0.5, color='black')\n",
    "plt.xlabel('year')\n",
    "plt.ylabel('temperature')"
   ]
  },
  {
   "attachments": {},
   "cell_type": "markdown",
   "metadata": {
    "colab_type": "text",
    "id": "wh4mQnHfUIEC"
   },
   "source": [
    "### 2) Make a train-test split of the available dataset"
   ]
  },
  {
   "cell_type": "code",
   "execution_count": null,
   "metadata": {
    "colab": {},
    "colab_type": "code",
    "id": "wLx8CIfjT5BO"
   },
   "outputs": [],
   "source": [
    "X_train, X_test, y_train, y_test = train_test_split(data_x, data_y, test_size=0.2, random_state=42)"
   ]
  },
  {
   "cell_type": "code",
   "execution_count": null,
   "metadata": {
    "colab": {
     "base_uri": "https://localhost:8080/",
     "height": 35
    },
    "colab_type": "code",
    "id": "1Z1kanVfrcZz",
    "outputId": "4e5b6f25-86dd-4799-efb9-8ef5e7ab7e43"
   },
   "outputs": [],
   "source": [
    "X_train.shape, y_train.shape"
   ]
  },
  {
   "attachments": {},
   "cell_type": "markdown",
   "metadata": {},
   "source": [
    "### 3) A simple gradient descent model"
   ]
  },
  {
   "cell_type": "code",
   "execution_count": null,
   "metadata": {
    "colab": {},
    "colab_type": "code",
    "id": "43T8xz2xJ35K"
   },
   "outputs": [],
   "source": [
    "class LinearRegression:\n",
    "    def __init__(self, X, y, lr=0.001, tolerance=1e-7):\n",
    "\n",
    "        self.lr = lr\n",
    "        self.tolerance = tolerance\n",
    "        self.n_samples = len(y)\n",
    "        self.n_features = X.shape[1]\n",
    "        self.X = X\n",
    "        self.y = y\n",
    "        self.W = np.ones( (self.n_features ,1) )\n",
    "        self.b = np.zeros( (1,1) )\n",
    "        self.losses = []\n",
    "\n",
    "    def predict(self, X) : \n",
    "\n",
    "        y_pred = ( X ).dot( self.W)  + self.b\n",
    "        return y_pred\n",
    "\n",
    "    def calc_loss(self, y_targ, y_pred):\n",
    "\n",
    "        ### L2 (MSE) loss\n",
    "        return 0.5 * np.mean( (y_pred - y_targ)**2 )\n",
    "\n",
    "    def calc_gradients(self,y_pred):\n",
    "\n",
    "        grad_W = np.mean((y_pred - self.y)*X_train)\n",
    "        grad_b = np.mean( y_pred - self.y)\n",
    "        return grad_W, grad_b\n",
    "\n",
    "    def update_params(self, grad_W, grad_b):\n",
    "\n",
    "        self.W = self.W - self.lr * grad_W.T\n",
    "        self.b = self.b - self.lr * grad_b\n",
    "\n",
    "    def train(self, n_iter=1500): \n",
    "\n",
    "        for i in tqdm.tqdm(range(n_iter)):\n",
    "\n",
    "            y_pred = self.predict(self.X)\n",
    "\n",
    "            loss = self.calc_loss(self.y, y_pred)\n",
    "            self.losses.append(loss)\n",
    "\n",
    "            grad_W, grad_b = self.calc_gradients(y_pred)\n",
    "\n",
    "            # check if the gradient is smaller than desired precision\n",
    "            if np.sqrt(np.sum(grad_W)**2 + abs(grad_b)) < self.tolerance:\n",
    "               break\n",
    "\n",
    "            self.update_params(grad_W,grad_b)\n",
    "    \n"
   ]
  },
  {
   "cell_type": "code",
   "execution_count": null,
   "metadata": {
    "colab": {},
    "colab_type": "code",
    "id": "bjhNyV4d0pcm"
   },
   "outputs": [],
   "source": [
    "model = LinearRegression(X_train, y_train, lr=1e-5)"
   ]
  },
  {
   "attachments": {},
   "cell_type": "markdown",
   "metadata": {},
   "source": [
    "### 4) Train the model on the X-y pair data"
   ]
  },
  {
   "cell_type": "code",
   "execution_count": null,
   "metadata": {
    "colab": {},
    "colab_type": "code",
    "id": "Bh_8ERrX02df"
   },
   "outputs": [],
   "source": [
    "model.train(n_iter=1000)"
   ]
  },
  {
   "cell_type": "code",
   "execution_count": null,
   "metadata": {},
   "outputs": [],
   "source": [
    "plt.scatter( range(len(model.losses)), np.log(model.losses),s=0.5)\n",
    "plt.xlabel('step')\n",
    "plt.ylabel('ln(loss)')"
   ]
  },
  {
   "attachments": {},
   "cell_type": "markdown",
   "metadata": {},
   "source": [
    "### 5) Evaluate model performance on _independent_ test dataset"
   ]
  },
  {
   "cell_type": "code",
   "execution_count": null,
   "metadata": {
    "colab": {},
    "colab_type": "code",
    "id": "vHCS3DIp2345"
   },
   "outputs": [],
   "source": [
    "y_pred = model.predict( X_test)"
   ]
  },
  {
   "cell_type": "code",
   "execution_count": null,
   "metadata": {},
   "outputs": [],
   "source": [
    "plt.scatter( X_test.flatten(), y_test.flatten(), s=0.5, color='black',label='test data')\n",
    "plt.xlabel('year')\n",
    "plt.ylabel('temperature')\n",
    "plt.plot( X_test, y_pred, color='r', linewidth=1.5, label='model prediction (y = {:.4f}x + {:.4f})'.format(float(model.W),float(model.b)))\n",
    "plt.legend()"
   ]
  },
  {
   "cell_type": "code",
   "execution_count": null,
   "metadata": {},
   "outputs": [],
   "source": []
  },
  {
   "cell_type": "code",
   "execution_count": null,
   "metadata": {},
   "outputs": [],
   "source": []
  }
 ],
 "metadata": {
  "colab": {
   "include_colab_link": true,
   "name": "Linear_Regression_Example.ipynb",
   "provenance": []
  },
  "kernelspec": {
   "display_name": "Python 3",
   "language": "python",
   "name": "python3"
  },
  "language_info": {
   "codemirror_mode": {
    "name": "ipython",
    "version": 3
   },
   "file_extension": ".py",
   "mimetype": "text/x-python",
   "name": "python",
   "nbconvert_exporter": "python",
   "pygments_lexer": "ipython3",
   "version": "3.10.10"
  }
 },
 "nbformat": 4,
 "nbformat_minor": 1
}
