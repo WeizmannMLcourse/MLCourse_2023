{
 "cells": [
  {
   "attachments": {},
   "cell_type": "markdown",
   "metadata": {},
   "source": [
    "# Introduction to NumPy"
   ]
  },
  {
   "attachments": {},
   "cell_type": "markdown",
   "metadata": {},
   "source": [
    "Handy cheatsheet: https://www.datacamp.com/cheat-sheet/numpy-cheat-sheet-data-analysis-in-python"
   ]
  },
  {
   "cell_type": "markdown",
   "metadata": {},
   "source": [
    "### Preamble"
   ]
  },
  {
   "cell_type": "code",
   "execution_count": null,
   "metadata": {},
   "outputs": [],
   "source": [
    "import numpy as np\n",
    "import matplotlib.pyplot as plt\n",
    "import matplotlib.ticker as ticker\n",
    "from mpl_toolkits.mplot3d import Axes3D"
   ]
  },
  {
   "cell_type": "code",
   "execution_count": null,
   "metadata": {},
   "outputs": [],
   "source": [
    "%matplotlib widget"
   ]
  },
  {
   "attachments": {},
   "cell_type": "markdown",
   "metadata": {},
   "source": [
    "## Function to visualize arrays"
   ]
  },
  {
   "cell_type": "code",
   "execution_count": null,
   "metadata": {},
   "outputs": [],
   "source": [
    "def voxelize_array(data,alpha=1.0,text=True):\n",
    "\n",
    "    if len(data.shape) > 4:\n",
    "        print(\"Sorry, can't process >4-dimensional input array\")\n",
    "        return None\n",
    "    while len(data.shape) < 4:\n",
    "        data = np.expand_dims(data,0)\n",
    "\n",
    "    i_arr, j_arr, k_arr = np.indices(data.shape[:-1])\n",
    "\n",
    "    shape = list(data.shape[:-1]) #can only visualize up to 3 dimensions\n",
    "    if data.shape[-1] == 4:\n",
    "        colors = data\n",
    "    elif data.shape[-1] == 3:\n",
    "        colors = np.concatenate((data,np.full(shape + [1],alpha)),axis=-1)\n",
    "    else:\n",
    "        if np.max(data) <= 1 and np.min(data) >=0:\n",
    "            opacity = data\n",
    "        elif np.ptp(data) > 0:\n",
    "            opacity = (data - min(data))/np.ptp(data)\n",
    "        elif np.max(data) != 0:\n",
    "            opacity = 0.9*data/max(data)\n",
    "\n",
    "        #opacity = np.clip(opacity,0,1.0)\n",
    "\n",
    "        colors = (np.ones(shape + [3]))\n",
    "        colors = np.concatenate((colors,opacity),-1)\n",
    "\n",
    "    fig = plt.figure()\n",
    "    ax = fig.add_subplot(111, projection='3d')\n",
    "    ax.set_title(f'{shape[0]} x {shape[1]} x {shape[2]} array')\n",
    "    ax.set_proj_type('ortho')\n",
    "    ax.set_box_aspect((max(np.ptp(i_arr),1), max(np.ptp(j_arr),1), max(np.ptp(k_arr),1)))\n",
    "    for axis in [ax.xaxis, ax.yaxis, ax.zaxis]:\n",
    "        axis.set_major_locator(ticker.MaxNLocator(integer=True))\n",
    "    ax.voxels(np.ones(shape), edgecolors = 'black', facecolors = colors)\n",
    "\n",
    "    if text:\n",
    "        for i,j,k in zip(i_arr.flatten(), j_arr.flatten(), k_arr.flatten()):\n",
    "            label = f'{i}{j}{k}'\n",
    "            ax.text(i+0.3,j+0.3,k+0.3, label, None)\n",
    "\n",
    "    ax.set_xlabel('i')\n",
    "    ax.set_ylabel('j')\n",
    "    ax.set_zlabel('k')\n"
   ]
  },
  {
   "attachments": {},
   "cell_type": "markdown",
   "metadata": {},
   "source": [
    "## 1) Fun with arrays"
   ]
  },
  {
   "attachments": {},
   "cell_type": "markdown",
   "metadata": {},
   "source": [
    "### Creation"
   ]
  },
  {
   "cell_type": "code",
   "execution_count": null,
   "metadata": {},
   "outputs": [],
   "source": [
    "### From list:\n",
    "my_list = [[1,23,4],\n",
    "           [56,789,10]]\n",
    "my_arr = np.array(my_list)"
   ]
  },
  {
   "cell_type": "code",
   "execution_count": null,
   "metadata": {},
   "outputs": [],
   "source": [
    "### Constant:\n",
    "full_arr = np.full((2,3,2),926.2)\n",
    "full_arr"
   ]
  },
  {
   "cell_type": "code",
   "execution_count": null,
   "metadata": {},
   "outputs": [],
   "source": [
    "### Random:\n",
    "rand_arr = np.random.random((3,3,3,4))"
   ]
  },
  {
   "cell_type": "code",
   "execution_count": null,
   "metadata": {},
   "outputs": [],
   "source": [
    "### Zeros / ones:\n",
    "zeros_arr = np.zeros((3,2,4))\n",
    "ones_arr = np.ones((5,3,3,1))"
   ]
  },
  {
   "cell_type": "code",
   "execution_count": null,
   "metadata": {},
   "outputs": [],
   "source": [
    "voxelize_array(ones_arr)"
   ]
  },
  {
   "attachments": {},
   "cell_type": "markdown",
   "metadata": {},
   "source": [
    "### Properties"
   ]
  },
  {
   "cell_type": "code",
   "execution_count": null,
   "metadata": {},
   "outputs": [],
   "source": [
    "ones_arr.shape"
   ]
  },
  {
   "cell_type": "code",
   "execution_count": null,
   "metadata": {},
   "outputs": [],
   "source": [
    "ones_arr.size"
   ]
  },
  {
   "cell_type": "code",
   "execution_count": null,
   "metadata": {},
   "outputs": [],
   "source": [
    "ones_arr.dtype"
   ]
  },
  {
   "cell_type": "markdown",
   "metadata": {},
   "source": [
    "### Math"
   ]
  },
  {
   "cell_type": "code",
   "execution_count": null,
   "metadata": {},
   "outputs": [],
   "source": [
    "apples = ones_arr.copy()\n",
    "apples = 0.9*apples"
   ]
  },
  {
   "cell_type": "code",
   "execution_count": null,
   "metadata": {},
   "outputs": [],
   "source": [
    "voxelize_array(apples)"
   ]
  },
  {
   "attachments": {},
   "cell_type": "markdown",
   "metadata": {},
   "source": [
    "### Assignment\n",
    "Let's try to \"hide\" one of the boxes"
   ]
  },
  {
   "cell_type": "code",
   "execution_count": null,
   "metadata": {},
   "outputs": [],
   "source": [
    "apples[3,0,1] = 0.1\n",
    "apples[0,0,2] = 0.1\n",
    "voxelize_array(apples)"
   ]
  },
  {
   "cell_type": "markdown",
   "metadata": {},
   "source": [
    "### Logic"
   ]
  },
  {
   "cell_type": "code",
   "execution_count": null,
   "metadata": {},
   "outputs": [],
   "source": [
    "greater_than_half = apples > 0.5\n",
    "apples = np.where(greater_than_half,\n",
    "                  0.1,\n",
    "                  1.0)"
   ]
  },
  {
   "cell_type": "code",
   "execution_count": null,
   "metadata": {},
   "outputs": [],
   "source": [
    "voxelize_array(apples)"
   ]
  },
  {
   "attachments": {},
   "cell_type": "markdown",
   "metadata": {},
   "source": [
    "### Slicing (selecting)"
   ]
  },
  {
   "cell_type": "code",
   "execution_count": null,
   "metadata": {},
   "outputs": [],
   "source": [
    "apples = ones_arr.copy()\n",
    "apples[0,-1,:] = 0.1\n",
    "voxelize_array(apples)"
   ]
  },
  {
   "attachments": {},
   "cell_type": "markdown",
   "metadata": {},
   "source": [
    "### Reshaping"
   ]
  },
  {
   "cell_type": "code",
   "execution_count": null,
   "metadata": {},
   "outputs": [],
   "source": [
    "apples = ones_arr.copy()\n",
    "print(apples.shape)"
   ]
  },
  {
   "cell_type": "code",
   "execution_count": null,
   "metadata": {},
   "outputs": [],
   "source": [
    "apples = apples.reshape(1,15,3,1)"
   ]
  },
  {
   "cell_type": "code",
   "execution_count": null,
   "metadata": {},
   "outputs": [],
   "source": [
    "voxelize_array(apples)"
   ]
  },
  {
   "attachments": {},
   "cell_type": "markdown",
   "metadata": {},
   "source": [
    "## 2) Making apples"
   ]
  },
  {
   "cell_type": "code",
   "execution_count": null,
   "metadata": {},
   "outputs": [],
   "source": [
    "red = [1,0,0,0.8] # = [R, G, B, alpha]\n",
    "apples = np.tile(red,(15,15,15,1))"
   ]
  },
  {
   "cell_type": "code",
   "execution_count": null,
   "metadata": {},
   "outputs": [],
   "source": [
    "voxelize_array(apples,text=False)"
   ]
  },
  {
   "cell_type": "code",
   "execution_count": null,
   "metadata": {},
   "outputs": [],
   "source": [
    "i, j, k, c = np.indices(apples.shape)"
   ]
  },
  {
   "cell_type": "code",
   "execution_count": null,
   "metadata": {},
   "outputs": [],
   "source": [
    "diameter = np.mean(apples.shape[:-1])\n",
    "distance = (i - np.mean(i))**2 + (j - np.mean(j))**2 + (k - np.mean(k))**2\n",
    "corners = distance > 1.1*(diameter/2)**2"
   ]
  },
  {
   "cell_type": "code",
   "execution_count": null,
   "metadata": {},
   "outputs": [],
   "source": [
    "apples = np.where(corners,[0,0,1,1],[1,0,0,1])"
   ]
  },
  {
   "cell_type": "code",
   "execution_count": null,
   "metadata": {},
   "outputs": [],
   "source": [
    "voxelize_array(apples,text=False)"
   ]
  },
  {
   "attachments": {},
   "cell_type": "markdown",
   "metadata": {},
   "source": [
    "## 3) Combining apples and oranges"
   ]
  },
  {
   "cell_type": "code",
   "execution_count": null,
   "metadata": {},
   "outputs": [],
   "source": [
    "oranges = np.tile([247/256, 162/256, 17/256, 0.8],(15,15,15,1))"
   ]
  },
  {
   "cell_type": "code",
   "execution_count": null,
   "metadata": {},
   "outputs": [],
   "source": [
    "voxelize_array(oranges,text=False)"
   ]
  },
  {
   "attachments": {},
   "cell_type": "markdown",
   "metadata": {},
   "source": [
    "### Concatenate"
   ]
  },
  {
   "cell_type": "code",
   "execution_count": null,
   "metadata": {},
   "outputs": [],
   "source": [
    "fruits = np.concatenate((apples,oranges),axis=1)"
   ]
  },
  {
   "cell_type": "code",
   "execution_count": null,
   "metadata": {},
   "outputs": [],
   "source": [
    "voxelize_array(fruits,text=False)"
   ]
  },
  {
   "attachments": {},
   "cell_type": "markdown",
   "metadata": {},
   "source": [
    "### Interleave"
   ]
  },
  {
   "cell_type": "code",
   "execution_count": null,
   "metadata": {},
   "outputs": [],
   "source": [
    "fruit_salad = fruits.reshape(30,15,15,4)\n",
    "voxelize_array(fruit_salad,text=False)"
   ]
  },
  {
   "attachments": {},
   "cell_type": "markdown",
   "metadata": {},
   "source": [
    "### Split"
   ]
  },
  {
   "cell_type": "code",
   "execution_count": null,
   "metadata": {},
   "outputs": [],
   "source": [
    "fruit_serving_1, fruit_serving_2 = np.split(fruit_salad,2,axis=0)\n",
    "voxelize_array(fruit_serving_1,text=False)"
   ]
  },
  {
   "cell_type": "code",
   "execution_count": null,
   "metadata": {},
   "outputs": [],
   "source": [
    "fruit_serving_2 = np.swapaxes(fruit_serving_2,0,1)\n",
    "fruit_salad = np.concatenate((fruit_serving_1,fruit_serving_2),axis=2)\n",
    "voxelize_array(fruit_salad,text=False)"
   ]
  },
  {
   "attachments": {},
   "cell_type": "markdown",
   "metadata": {},
   "source": [
    "### Matrix-multiply"
   ]
  },
  {
   "cell_type": "code",
   "execution_count": null,
   "metadata": {},
   "outputs": [],
   "source": [
    "def z_rotation(theta):\n",
    "    mat = [\n",
    "            [np.cos(theta), -np.sin(theta), 0],\n",
    "            [np.sin(theta),  np.cos(theta), 0],\n",
    "            [0,          0,                 1],\n",
    "        ]\n",
    "    return mat"
   ]
  },
  {
   "cell_type": "code",
   "execution_count": null,
   "metadata": {},
   "outputs": [],
   "source": [
    "colors_only = np.matmul(fruit_salad[...,:-1],z_rotation(np.pi/3))\n",
    "techno_salad  = np.concatenate((colors_only, fruit_salad[...,np.newaxis,-1]),-1)\n",
    "techno_salad = np.abs(techno_salad).clip(0,1)"
   ]
  },
  {
   "cell_type": "code",
   "execution_count": null,
   "metadata": {},
   "outputs": [],
   "source": [
    "voxelize_array(techno_salad,text=False)"
   ]
  }
 ],
 "metadata": {
  "kernelspec": {
   "display_name": "base",
   "language": "python",
   "name": "python3"
  },
  "language_info": {
   "codemirror_mode": {
    "name": "ipython",
    "version": 3
   },
   "file_extension": ".py",
   "mimetype": "text/x-python",
   "name": "python",
   "nbconvert_exporter": "python",
   "pygments_lexer": "ipython3",
   "version": "3.10.10"
  },
  "orig_nbformat": 4,
  "vscode": {
   "interpreter": {
    "hash": "558132f39646d3d0348e6651379ef181305b1eaef06a43ec08e0f7927db4ad3b"
   }
  }
 },
 "nbformat": 4,
 "nbformat_minor": 2
}
