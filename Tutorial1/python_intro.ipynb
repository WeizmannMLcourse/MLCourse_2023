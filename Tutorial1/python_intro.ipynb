{
 "cells": [
  {
   "attachments": {},
   "cell_type": "markdown",
   "metadata": {},
   "source": [
    "# Python essentials"
   ]
  },
  {
   "attachments": {},
   "cell_type": "markdown",
   "metadata": {},
   "source": [
    "### This repository:\n",
    "- https://github.com/WeizmannMLcourse/MLCourse_2023\n",
    "\n",
    "### Helpful links:\n",
    " - https://www.kaggle.com/learn/python\n",
    " - https://docs.python.org/3/tutorial/index.html"
   ]
  },
  {
   "cell_type": "markdown",
   "metadata": {},
   "source": [
    "## Importing and running"
   ]
  },
  {
   "cell_type": "markdown",
   "metadata": {},
   "source": [
    "#### Editors\n",
    "- VS Code: https://code.visualstudio.com\n",
    "- PyCharm: https://www.jetbrains.com/pycharm/\n",
    "- Jupyter: https://jupyter.org\n",
    "\n",
    "#### Notebook editor + python\n",
    "- Collaboratory: https://colab.research.google.com\n",
    "\n",
    "#### Installing python locally\n",
    "- https://www.python.org/downloads/"
   ]
  },
  {
   "cell_type": "markdown",
   "metadata": {},
   "source": [
    "#### 1) Run interactive session on terminal\n",
    "```\n",
    "python\n",
    "> x = 4\n",
    "```\n",
    "\n",
    "#### 2) Run script on terminal\n",
    "```\n",
    "python my_script.py\n",
    "```\n",
    "\n",
    "#### 3) Run notebook\n",
    "```\n",
    "jupyter notebook\n",
    "```"
   ]
  },
  {
   "attachments": {},
   "cell_type": "markdown",
   "metadata": {},
   "source": [
    "### Packages"
   ]
  },
  {
   "attachments": {},
   "cell_type": "markdown",
   "metadata": {},
   "source": [
    "e.g.\n",
    "```\n",
    "import numpy as np\n",
    "```"
   ]
  },
  {
   "attachments": {},
   "cell_type": "markdown",
   "metadata": {},
   "source": [
    "What if you don't have the library?\n",
    "```\n",
    "pip install numpy\n",
    "```"
   ]
  },
  {
   "cell_type": "markdown",
   "metadata": {},
   "source": [
    "### Importing code"
   ]
  },
  {
   "attachments": {},
   "cell_type": "markdown",
   "metadata": {},
   "source": [
    "Let's say I have some python code which I want to include in my current code (instead of writing it all over again).\n",
    "```\n",
    "sys.path.append('path/to/my/code.py')\n",
    "from code import my_useful_function\n",
    "```"
   ]
  },
  {
   "attachments": {},
   "cell_type": "markdown",
   "metadata": {},
   "source": [
    "## Data types"
   ]
  },
  {
   "cell_type": "markdown",
   "metadata": {},
   "source": [
    "### Numbers"
   ]
  },
  {
   "cell_type": "code",
   "execution_count": null,
   "metadata": {},
   "outputs": [],
   "source": [
    "### Float\n",
    "x = 3.5\n",
    "print(f\"x: {type(x)}\")\n",
    "\n",
    "### Integer\n",
    "i = 42\n",
    "j = 40\n",
    "print(f\"i: {type(i)}\")"
   ]
  },
  {
   "cell_type": "code",
   "execution_count": null,
   "metadata": {},
   "outputs": [],
   "source": [
    "x_times_x = x*x\n",
    "x2 = x**2\n",
    "print(f\"x times x: {x_times_x}\")\n",
    "print(f\"x squared: {x2}\")\n",
    "\n",
    "print(\"\\n\")\n",
    "\n",
    "i_div_j = i/j\n",
    "i_int_div_j = i//j\n",
    "i_mod_j = i%j\n",
    "print(f\"real division: {i_div_j}\")\n",
    "print(f\"integer division: {i_int_div_j}\")\n",
    "print(f\"remainder: {i_mod_j}\")\n"
   ]
  },
  {
   "attachments": {},
   "cell_type": "markdown",
   "metadata": {},
   "source": [
    "### Booleans"
   ]
  },
  {
   "cell_type": "code",
   "execution_count": null,
   "metadata": {},
   "outputs": [],
   "source": [
    "### Boolean\n",
    "python_is_cool = True\n",
    "I_have_time = True\n",
    "cpp_is_better_than_python = False\n",
    "\n",
    "I_learn_python = python_is_cool and I_have_time\n",
    "\n",
    "I_learn_cpp = I_have_time and (cpp_is_better_than_python and (not python_is_cool))\n",
    "\n",
    "I_learn_something = I_learn_python or I_learn_cpp\n",
    "\n",
    "print(\"I learn something: \",I_learn_something)\n",
    "print(\"I learn python: \",I_learn_python)\n",
    "print(\"I learn cpp: \",I_learn_cpp)\n"
   ]
  },
  {
   "attachments": {},
   "cell_type": "markdown",
   "metadata": {},
   "source": [
    "### Strings"
   ]
  },
  {
   "cell_type": "code",
   "execution_count": null,
   "metadata": {},
   "outputs": [],
   "source": [
    "### String\n",
    "words = \"I must learn python\"\n",
    "print(words)\n",
    "\n",
    "words = words.replace(\"python\",\"c++\")\n",
    "words = \"No, \" + words\n",
    "print(words)"
   ]
  },
  {
   "attachments": {},
   "cell_type": "markdown",
   "metadata": {},
   "source": [
    "### Structured data"
   ]
  },
  {
   "cell_type": "code",
   "execution_count": null,
   "metadata": {},
   "outputs": [],
   "source": [
    "### Set (unordered)\n",
    "# ...\n",
    "\n",
    "### List (ordered)\n",
    "animals = ['lion','hippo']\n",
    "animals += ['baboon']\n",
    "cages   = [10,9,4]\n",
    "\n",
    "### Tuple (ordered, unchanging)\n",
    "animals = ('lion','hippo','baboon')\n",
    "animals[1] = 'giraffe'\n",
    "\n",
    "### Dictionary (key:value pairs)\n",
    "zoo = {\n",
    "    'lion': 10,\n",
    "    'hippo': 9,\n",
    "    'baboon': 4\n",
    "}"
   ]
  },
  {
   "cell_type": "code",
   "execution_count": null,
   "metadata": {},
   "outputs": [],
   "source": [
    "print(zoo)\n",
    "print(zoo.keys())\n",
    "print(zoo.values())"
   ]
  },
  {
   "attachments": {},
   "cell_type": "markdown",
   "metadata": {},
   "source": [
    "## Indexing"
   ]
  },
  {
   "cell_type": "code",
   "execution_count": null,
   "metadata": {},
   "outputs": [],
   "source": [
    "days = [1, 2, 3, 4, 5, 6, 7, 8, 9, 10, 11, 12, 13, 14, 15, 16, 17, 18, 19, 20, 21, 22, 23, 24, 25, 26, 27, 28, 29, 30]\n",
    "print(days)"
   ]
  },
  {
   "attachments": {},
   "cell_type": "markdown",
   "metadata": {},
   "source": [
    "[start:end:step]"
   ]
  },
  {
   "cell_type": "code",
   "execution_count": null,
   "metadata": {},
   "outputs": [],
   "source": [
    "days[0:10]"
   ]
  },
  {
   "cell_type": "code",
   "execution_count": null,
   "metadata": {},
   "outputs": [],
   "source": [
    "days[-1]"
   ]
  },
  {
   "cell_type": "code",
   "execution_count": null,
   "metadata": {},
   "outputs": [],
   "source": [
    "print(days[::-1])"
   ]
  },
  {
   "attachments": {},
   "cell_type": "markdown",
   "metadata": {},
   "source": [
    "## Logic and loops"
   ]
  },
  {
   "cell_type": "code",
   "execution_count": null,
   "metadata": {},
   "outputs": [],
   "source": [
    "if len(days) == 28:\n",
    "    print('it is February')\n",
    "elif len(days) == 31:\n",
    "    print('a looooooong month')\n",
    "else:\n",
    "    print('a short month')"
   ]
  },
  {
   "cell_type": "code",
   "execution_count": null,
   "metadata": {},
   "outputs": [],
   "source": [
    "for day in days:\n",
    "    print(day,end=' ')"
   ]
  },
  {
   "cell_type": "code",
   "execution_count": null,
   "metadata": {},
   "outputs": [],
   "source": [
    "today = 18\n",
    "while day < 28:\n",
    "    day = today + 1\n",
    "\n",
    "print(day)"
   ]
  },
  {
   "attachments": {},
   "cell_type": "markdown",
   "metadata": {},
   "source": [
    "#### Helpful iteration methods"
   ]
  },
  {
   "cell_type": "code",
   "execution_count": null,
   "metadata": {},
   "outputs": [],
   "source": [
    "dogs = ['spot','pluto','betty']\n",
    "cats = ['taz','garfield','simba']"
   ]
  },
  {
   "cell_type": "code",
   "execution_count": null,
   "metadata": {},
   "outputs": [],
   "source": [
    "### zip\n",
    "for d,c in zip(dogs,cats):\n",
    "    print(d,c)"
   ]
  },
  {
   "cell_type": "code",
   "execution_count": null,
   "metadata": {},
   "outputs": [],
   "source": [
    "### enumerate\n",
    "for i, d in enumerate(dogs):\n",
    "    print(f\"{i}: {d}\")"
   ]
  },
  {
   "attachments": {},
   "cell_type": "markdown",
   "metadata": {},
   "source": [
    "## Functions"
   ]
  },
  {
   "cell_type": "code",
   "execution_count": null,
   "metadata": {},
   "outputs": [],
   "source": [
    "def mean(data):\n",
    "\n",
    "    sum = 0\n",
    "    for x in data:\n",
    "        sum += x\n",
    "\n",
    "    return sum/len(data)"
   ]
  },
  {
   "attachments": {},
   "cell_type": "markdown",
   "metadata": {},
   "source": [
    "Lambda function"
   ]
  },
  {
   "cell_type": "code",
   "execution_count": null,
   "metadata": {},
   "outputs": [],
   "source": [
    "wedded = lambda data: [x>28 for x in data]"
   ]
  },
  {
   "cell_type": "code",
   "execution_count": null,
   "metadata": {},
   "outputs": [],
   "source": [
    "print(wedded(days[today:]))"
   ]
  },
  {
   "attachments": {},
   "cell_type": "markdown",
   "metadata": {},
   "source": [
    "## Classes and inheritance"
   ]
  },
  {
   "attachments": {},
   "cell_type": "markdown",
   "metadata": {},
   "source": [
    "Classes are used to express entities that possess both attributes and functions (methods)"
   ]
  },
  {
   "cell_type": "code",
   "execution_count": null,
   "metadata": {},
   "outputs": [],
   "source": [
    "class calendar:\n",
    "\n",
    "    ### Variables defined here are shared by all instances and are typically static\n",
    "    weekdays  = ['Sun','Mon','Tue','Wed','Thu','Fri','Sat']\n",
    "    months    = {'Jan': 31,'Feb': 28,'Mar': 31,'Apr': 30,'May': 31,'Jun': 30,'Jul': 31,'Aug': 31,'Sep': 30,'Oct': 31,'Nov': 30,'Dec': 31}\n",
    "\n",
    "    ### Method names with \"dunder\" (double underscore) are reserved for special purposes\n",
    "    def __init__(self):\n",
    "\n",
    "        ### Variables defined here belong to this specific instance and are typically dynamic\n",
    "        self.yearday  = 1\n",
    "        self.monthday = 1\n",
    "        self.month    = 'Jan'\n",
    "        self.weekday  = 'Sun'\n",
    "\n",
    "    ### Custom methods\n",
    "    def next_day(self,):\n",
    "\n",
    "        self.yearday += 1\n",
    "        self.yearday %= 365\n",
    "        self.update()\n",
    "        \n",
    "    def update(self):\n",
    "\n",
    "        ### Find which month we are in\n",
    "        count = 0\n",
    "        for month, Ndays in self.months.items():\n",
    "\n",
    "            if count < self.yearday:\n",
    "                self.month = month\n",
    "                self.monthday = self.yearday - count\n",
    "                self.weekday = self.weekdays[(self.yearday - 1) % 7]\n",
    "            else:\n",
    "                break\n",
    "                        \n",
    "            count += Ndays\n"
   ]
  },
  {
   "cell_type": "code",
   "execution_count": null,
   "metadata": {},
   "outputs": [],
   "source": [
    "year_2023 = calendar()"
   ]
  },
  {
   "cell_type": "code",
   "execution_count": null,
   "metadata": {},
   "outputs": [],
   "source": [
    "print(year_2023.weekday)"
   ]
  },
  {
   "cell_type": "code",
   "execution_count": null,
   "metadata": {},
   "outputs": [],
   "source": [
    "year_2023.next_day()"
   ]
  },
  {
   "attachments": {},
   "cell_type": "markdown",
   "metadata": {},
   "source": [
    "### Inherited class"
   ]
  },
  {
   "cell_type": "code",
   "execution_count": null,
   "metadata": {},
   "outputs": [],
   "source": [
    "class supercalender(calendar):\n",
    "\n",
    "    ### Now let's \"overload\" the init function, adding optional user arguments during initialization\n",
    "    def __init__(self, yd=1):\n",
    "\n",
    "        ### \"super\" allows the new class to inherit all attributes of the parent class\n",
    "        super().__init__()\n",
    "        self.yearday = yd % 365\n",
    "        self.update()\n",
    "\n",
    "    ### Let's add a new method overloading the function reserved for the purpose of printing an object\n",
    "    def __str__(self):\n",
    "        return f'{self.weekday}, {self.month} {self.monthday}'"
   ]
  },
  {
   "cell_type": "code",
   "execution_count": null,
   "metadata": {},
   "outputs": [],
   "source": [
    "year_2023 = supercalender(198)\n",
    "print(year_2023)"
   ]
  }
 ],
 "metadata": {
  "kernelspec": {
   "display_name": "base",
   "language": "python",
   "name": "python3"
  },
  "language_info": {
   "codemirror_mode": {
    "name": "ipython",
    "version": 3
   },
   "file_extension": ".py",
   "mimetype": "text/x-python",
   "name": "python",
   "nbconvert_exporter": "python",
   "pygments_lexer": "ipython3",
   "version": "3.10.10"
  },
  "orig_nbformat": 4
 },
 "nbformat": 4,
 "nbformat_minor": 2
}
