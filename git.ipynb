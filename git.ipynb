{
  "cells": [
    {
      "attachments": {},
      "cell_type": "markdown",
      "metadata": {},
      "source": [
        "![Alt text](personal%20access%20token.png)"
      ]
    },
    {
      "attachments": {},
      "cell_type": "markdown",
      "metadata": {
        "id": "E8LINyFk53aX"
      },
      "source": [
        "# User specific variables/Info"
      ]
    },
    {
      "cell_type": "code",
      "execution_count": null,
      "metadata": {
        "id": "jfrdapMi59Nh"
      },
      "outputs": [],
      "source": [
        "github_key   = 'xxxxxxxxxxxxxxxx'\n",
        "folder_name = 'xx' # pick a new one for each homework\n",
        "url = 'https://github.com/WeizmannMLcourse/xxxxxxx.git' # for the particular homework"
      ]
    },
    {
      "cell_type": "code",
      "execution_count": 45,
      "metadata": {
        "id": "E-DdZFU4AAVp"
      },
      "outputs": [],
      "source": [
        "!git config --global user.email \"xxxxx@xxx.com\" # github email id\n",
        "!git config --global user.name \"xxxxx\" # github user name"
      ]
    },
    {
      "attachments": {},
      "cell_type": "markdown",
      "metadata": {
        "id": "b7rHaGyN36_V"
      },
      "source": [
        "# Mount Drive (Everytime you get back to colab)"
      ]
    },
    {
      "cell_type": "code",
      "execution_count": null,
      "metadata": {
        "colab": {
          "base_uri": "https://localhost:8080/"
        },
        "id": "E-RhIjqZgBF6",
        "outputId": "c78be3e1-3205-46a8-9ef6-b06a1db9f5b3"
      },
      "outputs": [
        {
          "name": "stdout",
          "output_type": "stream",
          "text": [
            "Drive already mounted at /content/drive; to attempt to forcibly remount, call drive.mount(\"/content/drive\", force_remount=True).\n"
          ]
        }
      ],
      "source": [
        "from google.colab import drive\n",
        "drive.mount('/content/drive')"
      ]
    },
    {
      "attachments": {},
      "cell_type": "markdown",
      "metadata": {
        "id": "wJHY8dOb5NtA"
      },
      "source": [
        "# Create a folder for in your <font color='cyan'>Google Drive</font> for the HW, and get the  code from the repository ( <font color='red'>Run these once for each HW, when you are setting up things</font>)"
      ]
    },
    {
      "cell_type": "code",
      "execution_count": null,
      "metadata": {
        "colab": {
          "base_uri": "https://localhost:8080/"
        },
        "id": "1j7jdPWD5u4A",
        "outputId": "4d95e17f-d8a9-40ca-ede6-8f7fe4892e42"
      },
      "outputs": [
        {
          "name": "stdout",
          "output_type": "stream",
          "text": [
            "Cloning into '.'...\n",
            "remote: Enumerating objects: 21, done.\u001b[K\n",
            "remote: Counting objects: 100% (21/21), done.\u001b[K\n",
            "remote: Compressing objects: 100% (15/15), done.\u001b[K\n",
            "remote: Total 21 (delta 4), reused 7 (delta 2), pack-reused 0\u001b[K\n",
            "Unpacking objects: 100% (21/21), 1.44 MiB | 2.83 MiB/s, done.\n"
          ]
        }
      ],
      "source": [
        "!mkdir /content/drive/MyDrive/{folder_name}\n",
        "%cd  /content/drive/MyDrive/{folder_name}\n",
        "repo_name = url.split('/')[-1]\n",
        "clone_command = 'https://' + github_key + '@github.com/WeizmannMLcourse/' + repo_name\n",
        "!git clone $clone_command ."
      ]
    },
    {
      "attachments": {},
      "cell_type": "markdown",
      "metadata": {
        "id": "YjshFSYriKgC"
      },
      "source": [
        "# Run these commands everytime you want to push your changes"
      ]
    },
    {
      "cell_type": "code",
      "execution_count": null,
      "metadata": {
        "colab": {
          "base_uri": "https://localhost:8080/"
        },
        "id": "41h0V-un_OG0",
        "outputId": "8ff62fd1-a914-4c9e-ddf2-052b083ed517"
      },
      "outputs": [],
      "source": [
        "%cd /content/drive/MyDrive/{folder_name}"
      ]
    },
    {
      "cell_type": "code",
      "execution_count": null,
      "metadata": {
        "id": "IldJGy40eQjd"
      },
      "outputs": [],
      "source": [
        "!git add model.py\n",
        "!git add trained_model.pt"
      ]
    },
    {
      "cell_type": "code",
      "execution_count": null,
      "metadata": {
        "colab": {
          "base_uri": "https://localhost:8080/"
        },
        "id": "oA1LciSaiJ2D",
        "outputId": "8d3264a8-e035-4b88-f879-cc72b65aecb9"
      },
      "outputs": [],
      "source": [
        "!git commit -m 'your message here'\n",
        "!git push"
      ]
    },
    {
      "attachments": {},
      "cell_type": "markdown",
      "metadata": {
        "id": "UsOFr-2I8l03"
      },
      "source": [
        "# Some more useful commands"
      ]
    },
    {
      "cell_type": "code",
      "execution_count": null,
      "metadata": {
        "colab": {
          "base_uri": "https://localhost:8080/"
        },
        "id": "ItISzbGniT_Y",
        "outputId": "402b444c-a487-4002-df39-7afcc6c19110"
      },
      "outputs": [],
      "source": [
        "# list all the files\n",
        "!ls\n",
        "\n",
        "# current location in drive\n",
        "!pwd\n",
        "\n",
        "# status of your git changes\n",
        "!git status"
      ]
    },
    {
      "cell_type": "code",
      "execution_count": null,
      "metadata": {
        "id": "Xhg5iGrr81bw"
      },
      "outputs": [],
      "source": []
    }
  ],
  "metadata": {
    "colab": {
      "provenance": []
    },
    "kernelspec": {
      "display_name": "Python 3",
      "name": "python3"
    },
    "language_info": {
      "name": "python"
    }
  },
  "nbformat": 4,
  "nbformat_minor": 0
}
