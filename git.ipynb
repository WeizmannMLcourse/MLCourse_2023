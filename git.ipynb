{
  "nbformat": 4,
  "nbformat_minor": 0,
  "metadata": {
    "colab": {
      "provenance": []
    },
    "kernelspec": {
      "name": "python3",
      "display_name": "Python 3"
    },
    "language_info": {
      "name": "python"
    }
  },
  "cells": [
    {
      "cell_type": "markdown",
      "source": [
        "# User specific variables/Info"
      ],
      "metadata": {
        "id": "E8LINyFk53aX"
      }
    },
    {
      "cell_type": "code",
      "source": [
        "github_key   = 'xxxxxxxxxxxxxxxx'\n",
        "folder_name = 'xx' # pick a new one for each homework\n",
        "url = 'https://github.com/WeizmannMLcourse/xxxxxxx.git' # for the particular homework"
      ],
      "metadata": {
        "id": "jfrdapMi59Nh"
      },
      "execution_count": null,
      "outputs": []
    },
    {
      "cell_type": "code",
      "source": [
        "!git config --global user.email \"xxxxx@xxx.com\" # github email id\n",
        "!git config --global user.name \"xxxxx\" # github user name"
      ],
      "metadata": {
        "id": "E-DdZFU4AAVp"
      },
      "execution_count": 45,
      "outputs": []
    },
    {
      "cell_type": "markdown",
      "source": [
        "# Mount Drive (Everytime you get back to colab)"
      ],
      "metadata": {
        "id": "b7rHaGyN36_V"
      }
    },
    {
      "cell_type": "code",
      "source": [
        "from google.colab import drive\n",
        "drive.mount('/content/drive')"
      ],
      "metadata": {
        "id": "E-RhIjqZgBF6",
        "colab": {
          "base_uri": "https://localhost:8080/"
        },
        "outputId": "c78be3e1-3205-46a8-9ef6-b06a1db9f5b3"
      },
      "execution_count": null,
      "outputs": [
        {
          "output_type": "stream",
          "name": "stdout",
          "text": [
            "Drive already mounted at /content/drive; to attempt to forcibly remount, call drive.mount(\"/content/drive\", force_remount=True).\n"
          ]
        }
      ]
    },
    {
      "cell_type": "markdown",
      "source": [
        "# Create a folder for in your <font color='cyan'>Google Drive</font> for the HW, and get the  code from the repository ( <font color='red'>Run these once for each HW, when you are setting up things</font>)"
      ],
      "metadata": {
        "id": "wJHY8dOb5NtA"
      }
    },
    {
      "cell_type": "code",
      "source": [
        "!mkdir /content/drive/MyDrive/{folder_name}\n",
        "%cd  /content/drive/MyDrive/{folder_name}\n",
        "repo_name = url.split('/')[-1]\n",
        "clone_command = 'https://' + github_key + '@github.com/WeizmannMLcourse/' + repo_name\n",
        "!git clone $clone_command ."
      ],
      "metadata": {
        "colab": {
          "base_uri": "https://localhost:8080/"
        },
        "id": "1j7jdPWD5u4A",
        "outputId": "4d95e17f-d8a9-40ca-ede6-8f7fe4892e42"
      },
      "execution_count": null,
      "outputs": [
        {
          "output_type": "stream",
          "name": "stdout",
          "text": [
            "Cloning into '.'...\n",
            "remote: Enumerating objects: 21, done.\u001b[K\n",
            "remote: Counting objects: 100% (21/21), done.\u001b[K\n",
            "remote: Compressing objects: 100% (15/15), done.\u001b[K\n",
            "remote: Total 21 (delta 4), reused 7 (delta 2), pack-reused 0\u001b[K\n",
            "Unpacking objects: 100% (21/21), 1.44 MiB | 2.83 MiB/s, done.\n"
          ]
        }
      ]
    },
    {
      "cell_type": "markdown",
      "source": [
        "# Run these commands everytime you want to push your changes"
      ],
      "metadata": {
        "id": "YjshFSYriKgC"
      }
    },
    {
      "cell_type": "code",
      "source": [
        "%cd /content/drive/MyDrive/{folder_name}"
      ],
      "metadata": {
        "colab": {
          "base_uri": "https://localhost:8080/"
        },
        "id": "41h0V-un_OG0",
        "outputId": "8ff62fd1-a914-4c9e-ddf2-052b083ed517"
      },
      "execution_count": null,
      "outputs": [
        {
          "output_type": "stream",
          "name": "stdout",
          "text": [
            "/content/drive/MyDrive/trial\n"
          ]
        }
      ]
    },
    {
      "cell_type": "code",
      "source": [
        "!git add model.py\n",
        "!git add trained_model.pt"
      ],
      "metadata": {
        "id": "IldJGy40eQjd"
      },
      "execution_count": null,
      "outputs": []
    },
    {
      "cell_type": "code",
      "source": [
        "!git commit -m 'your message here'\n",
        "!git push"
      ],
      "metadata": {
        "colab": {
          "base_uri": "https://localhost:8080/"
        },
        "id": "oA1LciSaiJ2D",
        "outputId": "8d3264a8-e035-4b88-f879-cc72b65aecb9"
      },
      "execution_count": 46,
      "outputs": [
        {
          "output_type": "stream",
          "name": "stdout",
          "text": [
            "[main a9bf56b] your message here\n",
            " 1 file changed, 2 insertions(+), 3 deletions(-)\n",
            "Enumerating objects: 5, done.\n",
            "Counting objects: 100% (5/5), done.\n",
            "Delta compression using up to 2 threads\n",
            "Compressing objects: 100% (3/3), done.\n",
            "Writing objects: 100% (3/3), 332 bytes | 83.00 KiB/s, done.\n",
            "Total 3 (delta 2), reused 0 (delta 0)\n",
            "remote: Resolving deltas: 100% (2/2), completed with 2 local objects.\u001b[K\n",
            "To https://github.com/WeizmannMLcourse/homework1-nilotpal09.git\n",
            "   021d784..a9bf56b  main -> main\n"
          ]
        }
      ]
    },
    {
      "cell_type": "markdown",
      "source": [
        "# Some more useful commands"
      ],
      "metadata": {
        "id": "UsOFr-2I8l03"
      }
    },
    {
      "cell_type": "code",
      "source": [
        "# list all the files\n",
        "!ls\n",
        "\n",
        "# current location in drive\n",
        "!pwd\n",
        "\n",
        "# status of your git changes\n",
        "!git status"
      ],
      "metadata": {
        "id": "ItISzbGniT_Y",
        "colab": {
          "base_uri": "https://localhost:8080/"
        },
        "outputId": "402b444c-a487-4002-df39-7afcc6c19110"
      },
      "execution_count": null,
      "outputs": [
        {
          "output_type": "stream",
          "name": "stdout",
          "text": [
            "dataset.py  evaluate.py  homework_1.ipynb  model.py  README.md\n",
            "/content/drive/MyDrive/trial\n",
            "On branch main\n",
            "Your branch is up to date with 'origin/main'.\n",
            "\n",
            "Changes not staged for commit:\n",
            "  (use \"git add <file>...\" to update what will be committed)\n",
            "  (use \"git restore <file>...\" to discard changes in working directory)\n",
            "\t\u001b[31mmodified:   model.py\u001b[m\n",
            "\n",
            "no changes added to commit (use \"git add\" and/or \"git commit -a\")\n"
          ]
        }
      ]
    },
    {
      "cell_type": "code",
      "source": [],
      "metadata": {
        "id": "Xhg5iGrr81bw"
      },
      "execution_count": null,
      "outputs": []
    }
  ]
}