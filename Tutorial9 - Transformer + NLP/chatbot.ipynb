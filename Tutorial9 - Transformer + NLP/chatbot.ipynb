{
 "cells": [
  {
   "cell_type": "code",
   "execution_count": 1,
   "metadata": {},
   "outputs": [],
   "source": [
    "import os\n",
    "import yaml\n",
    "import sys\n",
    "\n",
    "import re\n",
    "from collections import Counter\n",
    "import numpy as np\n",
    "import math\n",
    "from tqdm.notebook import tqdm\n",
    "\n",
    "import torch\n",
    "import torch.nn as nn\n",
    "import torch.nn.functional as F\n",
    "import torch.optim as optim\n",
    "from torch.utils.data import Dataset, DataLoader\n",
    "\n",
    "import matplotlib.pyplot as plt\n",
    "from matplotlib import gridspec"
   ]
  },
  {
   "cell_type": "code",
   "execution_count": 2,
   "metadata": {},
   "outputs": [],
   "source": [
    "device = torch.device('cuda' if torch.cuda.is_available() else 'cpu')"
   ]
  },
  {
   "cell_type": "code",
   "execution_count": 3,
   "metadata": {},
   "outputs": [],
   "source": [
    "def load_yaml_files(dirname, categories=None):\n",
    "    \"\"\"\n",
    "    Load all YAML files in the given directory and merge them into a single dictionary.\n",
    "    \"\"\"\n",
    "    dicts = []\n",
    "    for filename in os.listdir(dirname):\n",
    "        with open(os.path.join(dirname, filename), 'r') as f:\n",
    "            yaml_data = yaml.safe_load(f)\n",
    "            dicts.append(yaml_data)\n",
    "\n",
    "    if categories is not None:\n",
    "        dicts = [d for d in dicts if d['categories'][0] in categories]\n",
    "    return dicts\n",
    "\n",
    "def get_convo_pairs(dicts):\n",
    "    convo_pairs = []\n",
    "    for d in dicts:\n",
    "        for convo in d['conversations']:\n",
    "            for i in range(len(convo) - 1):\n",
    "                convo_pairs.append([convo[0], convo[i + 1]])\n",
    "\n",
    "    return convo_pairs\n"
   ]
  },
  {
   "cell_type": "code",
   "execution_count": 57,
   "metadata": {},
   "outputs": [
    {
     "name": "stdout",
     "output_type": "stream",
     "text": [
      "Number of conversations: 869\n"
     ]
    }
   ],
   "source": [
    "data_dict = load_yaml_files('english') #, ['emotion', 'greeting'])\n",
    "convo_pairs = get_convo_pairs(data_dict)\n",
    "print('Number of conversations:', len(convo_pairs))"
   ]
  },
  {
   "attachments": {},
   "cell_type": "markdown",
   "metadata": {},
   "source": [
    "## Tokenizer"
   ]
  },
  {
   "cell_type": "code",
   "execution_count": 5,
   "metadata": {},
   "outputs": [],
   "source": [
    "import re\n",
    "from collections import Counter\n",
    "import numpy as np\n",
    "\n",
    "class CustomTokenizer:\n",
    "    def __init__(self):\n",
    "        self.vocab = None\n",
    "        self.token_to_id = None\n",
    "        self.id_to_token = None\n",
    "        self.vocab_size = None\n",
    "        self.special_tokens = ['<EOS>', '<PAD>']\n",
    "        self.pad_token_id = -1\n",
    "        self.eos_token_id = -1\n",
    "\n",
    "    def fit_on_texts(self, texts, vocab_size=None):\n",
    "        # Tokenize the texts and build the vocabulary\n",
    "        tokenized_texts = [self.tokenize(text) for text in texts]\n",
    "        all_tokens = [token for text_tokens in tokenized_texts for token in text_tokens]\n",
    "        token_counts = Counter(all_tokens)\n",
    "\n",
    "        # Create vocabulary with most common tokens\n",
    "        if vocab_size is not None:\n",
    "            most_common_tokens = token_counts.most_common(vocab_size)\n",
    "        else:\n",
    "            most_common_tokens = token_counts.most_common()\n",
    "\n",
    "        self.vocab = [token for token, count in most_common_tokens] + self.special_tokens\n",
    "        self.vocab_size = len(self.vocab)\n",
    "\n",
    "        # Assign token IDs\n",
    "        self.token_to_id = {token: i for i, token in enumerate(self.vocab)}\n",
    "        self.id_to_token = {i: token for i, token in enumerate(self.vocab)}\n",
    "\n",
    "        self.pad_token_id = self.token_to_id['<PAD>']\n",
    "        self.eos_token_id = self.token_to_id['<EOS>']\n",
    "\n",
    "    def tokenize(self, text):\n",
    "        # Tokenize text into individual tokens\n",
    "        tokens = re.findall(r'\\w+|[^\\w\\s]', text.lower())\n",
    "        return tokens\n",
    "\n",
    "    def encode(self, text, max_length=None):\n",
    "        # Convert text to a sequence of token IDs\n",
    "        tokens = self.tokenize(text) + ['<EOS>']\n",
    "        token_ids = [self.token_to_id.get(token, 0) for token in tokens]  # Assign 0 for out-of-vocabulary tokens\n",
    "\n",
    "        if max_length is not None:\n",
    "\n",
    "            n_real_tokens = len(token_ids)\n",
    "\n",
    "            # Pad or truncate the token IDs to the specified max length\n",
    "            token_ids = self.pad_or_truncate(token_ids, max_length)\n",
    "\n",
    "            # Generate attention mask\n",
    "            attention_mask = [1] * n_real_tokens + [0] * (max_length - n_real_tokens)\n",
    "            # attention_mask = [1] * len(token_ids) + [0] * (max_length - len(token_ids))\n",
    "            attention_mask = np.array(attention_mask)\n",
    "\n",
    "            return token_ids, attention_mask\n",
    "\n",
    "        return token_ids\n",
    "\n",
    "    def decode(self, token_ids):\n",
    "        # Convert token IDs back to text\n",
    "        tokens = [self.id_to_token.get(token_id, '') for token_id in token_ids]\n",
    "        text = ' '.join(tokens)\n",
    "        return text\n",
    "\n",
    "    def pad_or_truncate(self, token_ids, max_length):\n",
    "        if len(token_ids) < max_length:\n",
    "            token_ids = token_ids + [self.pad_token_id] * (max_length - len(token_ids))\n",
    "        else:\n",
    "            token_ids = token_ids[:max_length]\n",
    "        return token_ids\n"
   ]
  },
  {
   "cell_type": "code",
   "execution_count": 6,
   "metadata": {},
   "outputs": [],
   "source": [
    "tokenizer = CustomTokenizer()\n",
    "all_sentences = list(set([pair[0] for pair in convo_pairs] + [pair[1] for pair in convo_pairs]))\n",
    "tokenizer.fit_on_texts(all_sentences)"
   ]
  },
  {
   "cell_type": "code",
   "execution_count": 7,
   "metadata": {},
   "outputs": [
    {
     "data": {
      "text/plain": [
       "['.', 'i', 'you', 'a', 'the', ',', 'is', '?', \"'\", 'of']"
      ]
     },
     "execution_count": 7,
     "metadata": {},
     "output_type": "execute_result"
    }
   ],
   "source": [
    "tokenizer.vocab[:10]"
   ]
  },
  {
   "cell_type": "code",
   "execution_count": 8,
   "metadata": {},
   "outputs": [
    {
     "data": {
      "text/plain": [
       "[383, 5, 33, 12, 2, 7, 1964]"
      ]
     },
     "execution_count": 8,
     "metadata": {},
     "output_type": "execute_result"
    }
   ],
   "source": [
    "tokenizer.encode('Hello, how are you?')"
   ]
  },
  {
   "cell_type": "code",
   "execution_count": 9,
   "metadata": {},
   "outputs": [
    {
     "name": "stdout",
     "output_type": "stream",
     "text": [
      "[383, 5, 33, 12, 2, 7, 1964, 1965, 1965, 1965, 1965, 1965, 1965, 1965, 1965, 1965, 1965, 1965, 1965, 1965]\n",
      "[1 1 1 1 1 1 1 0 0 0 0 0 0 0 0 0 0 0 0 0]\n"
     ]
    }
   ],
   "source": [
    "# Encode (token IDs) and generate attention mask\n",
    "tokens, attention_mask = tokenizer.encode('Hello, how are you?', max_length=20)\n",
    "print(tokens)\n",
    "print(attention_mask)"
   ]
  },
  {
   "cell_type": "code",
   "execution_count": 10,
   "metadata": {},
   "outputs": [
    {
     "data": {
      "text/plain": [
       "'scared , how are you ? <EOS> <PAD>'"
      ]
     },
     "execution_count": 10,
     "metadata": {},
     "output_type": "execute_result"
    }
   ],
   "source": [
    "# Decode (token IDs -> text)\n",
    "tokenizer.decode([462, 5, 33, 12, 2, 7, 1964, 1965])"
   ]
  },
  {
   "attachments": {},
   "cell_type": "markdown",
   "metadata": {},
   "source": [
    "## Extra stuff"
   ]
  },
  {
   "cell_type": "code",
   "execution_count": 11,
   "metadata": {},
   "outputs": [
    {
     "name": "stdout",
     "output_type": "stream",
     "text": [
      "max_seq_len: 53\n",
      "vocab_size: 1966\n"
     ]
    }
   ],
   "source": [
    "# maxmimum sequence length\n",
    "max_seq_len = 0\n",
    "for pair in convo_pairs:\n",
    "    tokens = tokenizer.encode(pair[0])\n",
    "    max_seq_len = max(max_seq_len, len(tokens))\n",
    "    tokens = tokenizer.encode(pair[1])\n",
    "    max_seq_len = max(max_seq_len, len(tokens))\n",
    "max_seq_len += 1\n",
    "print(f'max_seq_len: {max_seq_len}')\n",
    "\n",
    "# vocabulary size\n",
    "vocab_size = tokenizer.vocab_size\n",
    "print(f'vocab_size: {vocab_size}')"
   ]
  },
  {
   "attachments": {},
   "cell_type": "markdown",
   "metadata": {},
   "source": [
    "## Dataset"
   ]
  },
  {
   "cell_type": "code",
   "execution_count": 12,
   "metadata": {},
   "outputs": [],
   "source": [
    "class ChatbotDataset(Dataset):\n",
    "    def __init__(self, convo_pairs, tokenizer, max_length):\n",
    "        self.tokenizer = tokenizer\n",
    "        self.convo_pairs = convo_pairs\n",
    "        self.max_length = max_length\n",
    "\n",
    "    def __len__(self):\n",
    "        return len(self.convo_pairs)\n",
    "    \n",
    "    def __getitem__(self, index):\n",
    "        # Get a single example from the dataset\n",
    "        input, output = self.convo_pairs[index]\n",
    "\n",
    "        # Convert the input and output sentences to token IDs\n",
    "        input_ids, input_attention_mask   = self.tokenizer.encode(input, self.max_length)\n",
    "        output_ids, output_attention_mask = self.tokenizer.encode(output, self.max_length)\n",
    "\n",
    "        # Convert the token IDs to tensors\n",
    "        input_ids = torch.LongTensor(input_ids)\n",
    "        output_ids = torch.LongTensor(output_ids)\n",
    "\n",
    "        # Convert the attention masks to tensors\n",
    "        input_attention_mask = torch.LongTensor(input_attention_mask)\n",
    "        output_attention_mask = torch.LongTensor(output_attention_mask)\n",
    "\n",
    "        if output_attention_mask.shape != output_ids.shape:\n",
    "            print(index)\n",
    "\n",
    "        return input_ids, input_attention_mask, output_ids, output_attention_mask\n"
   ]
  },
  {
   "cell_type": "code",
   "execution_count": 13,
   "metadata": {},
   "outputs": [],
   "source": [
    "dataset = ChatbotDataset(convo_pairs, tokenizer, max_length=max_seq_len)\n",
    "data_loader = DataLoader(dataset, batch_size=32, shuffle=True)"
   ]
  },
  {
   "attachments": {},
   "cell_type": "markdown",
   "metadata": {},
   "source": [
    "## Network"
   ]
  },
  {
   "cell_type": "code",
   "execution_count": 14,
   "metadata": {},
   "outputs": [],
   "source": [
    "class PositionalEncoding(nn.Module):\n",
    "    def __init__(self, embed_size, max_seq_len, dropout=0.1):\n",
    "        super(PositionalEncoding, self).__init__()\n",
    "\n",
    "        self.dropout = nn.Dropout(p=dropout)\n",
    "\n",
    "        position = torch.arange(max_seq_len).unsqueeze(1)\n",
    "        div_term = torch.exp(torch.arange(0, embed_size, 2) * -(math.log(10000.0) / embed_size))\n",
    "        pe = torch.zeros(1, max_seq_len, embed_size)\n",
    "\n",
    "        pe[0, :, 0::2] = torch.sin(position * div_term)\n",
    "        pe[0, :, 1::2] = torch.cos(position * div_term)\n",
    "\n",
    "        self.register_buffer('pe', pe)\n",
    "\n",
    "    def forward(self, x):\n",
    "        x = x + self.pe[:, :x.size(1), :]\n",
    "        return self.dropout(x)\n",
    "\n",
    "\n",
    "class TransformerChatbot(nn.Module):\n",
    "    def __init__(self, vocab_size, embedding_size, hidden_size, num_heads, num_layers, max_seq_len):\n",
    "        super(TransformerChatbot, self).__init__()\n",
    "\n",
    "        self.max_seq_len = max_seq_len\n",
    "\n",
    "        self.embedding = nn.Embedding(vocab_size, embedding_size)\n",
    "        self.positional_encoding = PositionalEncoding(embedding_size, max_seq_len)\n",
    "        self.transformer_encoder = nn.TransformerEncoder(\n",
    "            nn.TransformerEncoderLayer(embedding_size, num_heads, hidden_size),\n",
    "            num_layers\n",
    "        )\n",
    "        self.decoder = nn.Sequential(\n",
    "            nn.Linear(embedding_size, hidden_size),\n",
    "            nn.ReLU(),\n",
    "            nn.Linear(hidden_size, hidden_size),\n",
    "            nn.ReLU(),\n",
    "            nn.Linear(hidden_size, vocab_size)\n",
    "        )\n",
    "\n",
    "    def forward(self, input_ids, input_attention_mask):\n",
    "        embedded = self.embedding(input_ids)\n",
    "        embedded = self.positional_encoding(embedded)\n",
    "\n",
    "        # Transpose the embedded tensor for transformer encoder\n",
    "        embedded = embedded.transpose(0, 1)\n",
    "        encoded = self.transformer_encoder(embedded, src_key_padding_mask=~input_attention_mask.bool())\n",
    "\n",
    "        # Transpose the encoded tensor back to the original shape\n",
    "        encoded = encoded.transpose(0, 1)\n",
    "\n",
    "        # Decode the encoded tensor\n",
    "        output = self.decoder(encoded)\n",
    "        return output\n",
    "    \n",
    "    def generate(self, input_text, tokenizer, device, return_full_text=False, sample=False):\n",
    "        # Set the model to evaluation mode (dropout + normalization layers won't work)\n",
    "        self.eval()\n",
    "\n",
    "        # Encode the input text to token IDs\n",
    "        input_ids, input_attention_mask = tokenizer.encode(input_text, self.max_seq_len)\n",
    "\n",
    "        # Convert the token IDs to tensors\n",
    "        input_ids = torch.LongTensor(input_ids).unsqueeze(0).to(device)\n",
    "        input_attention_mask = torch.LongTensor(input_attention_mask).unsqueeze(0).to(device)\n",
    "\n",
    "        # Generate output token IDs\n",
    "        output_ids = self.forward(input_ids, input_attention_mask)\n",
    "\n",
    "        if sample:\n",
    "            # sample from top 5\n",
    "            output_ids = torch.topk(output_ids, k=5, dim=-1)[1]\n",
    "\n",
    "            # Get the size of the third dimension\n",
    "            num_elements = output_ids.size(-1)\n",
    "\n",
    "            # Choose a random index to sample from\n",
    "            index = torch.multinomial(torch.ones(num_elements), 1).item()\n",
    "\n",
    "            # Get the sampled element\n",
    "            output_ids = output_ids[:, :, index]\n",
    "        else:\n",
    "            output_ids = output_ids.argmax(dim=-1)\n",
    "\n",
    "        # Decode the output token IDs\n",
    "        output_text_full = tokenizer.decode(output_ids[0].tolist())\n",
    "\n",
    "        # Remove everything after the first <EOS> token\n",
    "        output_text = output_text_full.split('<EOS>')[0].strip()\n",
    "\n",
    "        if return_full_text:\n",
    "            return output_text, output_text_full\n",
    "        else:\n",
    "            return output_text"
   ]
  },
  {
   "cell_type": "code",
   "execution_count": 15,
   "metadata": {},
   "outputs": [],
   "source": [
    "embedding_size = 128\n",
    "hidden_size = 128\n",
    "num_heads = 4\n",
    "num_layers = 2"
   ]
  },
  {
   "attachments": {},
   "cell_type": "markdown",
   "metadata": {},
   "source": [
    "## Weighted custom loss"
   ]
  },
  {
   "cell_type": "code",
   "execution_count": 16,
   "metadata": {},
   "outputs": [],
   "source": [
    "chars = {i:[] for i in range(max_seq_len)}\n",
    "chars_int = {i:[] for i in range(max_seq_len)}\n",
    "chars_all = []\n",
    "for i in range(len(convo_pairs)):\n",
    "    for convo in convo_pairs[i]:\n",
    "        tokens = tokenizer.encode(convo, max_length=max_seq_len)[0]\n",
    "\n",
    "        for j in range(max_seq_len):\n",
    "            decoded = tokenizer.decode([tokens[j]])\n",
    "\n",
    "            chars_all.append(decoded)\n",
    "            chars[j].append(decoded)\n",
    "            chars_int[j].append(tokens[j])"
   ]
  },
  {
   "cell_type": "code",
   "execution_count": 17,
   "metadata": {},
   "outputs": [
    {
     "data": {
      "image/png": "[encoded data removed]",
      "text/plain": [
       "<Figure size 2250x1500 with 12 Axes>"
      ]
     },
     "metadata": {},
     "output_type": "display_data"
    }
   ],
   "source": [
    "plt.figure(figsize=(15, 10), dpi=150)\n",
    "gs = gridspec.GridSpec(3, 4, wspace=0.3, hspace=0.6)\n",
    "\n",
    "# plot top 5 most common characters\n",
    "for i in range(12):\n",
    "    counter = Counter(chars[i])\n",
    "    most_common = counter.most_common(6)\n",
    "\n",
    "    for j in range(6):\n",
    "        if most_common[j][0] == '<PAD>':\n",
    "            most_common.pop(j)\n",
    "            break\n",
    "    if len(most_common) == 6:\n",
    "        most_common.pop()\n",
    "\n",
    "    ax = plt.subplot(gs[i])\n",
    "    ax.bar([x[0] for x in most_common], [x[1] for x in most_common])\n",
    "    ax.set_title(f'position {i}')"
   ]
  },
  {
   "cell_type": "code",
   "execution_count": 35,
   "metadata": {},
   "outputs": [],
   "source": [
    "class CustomLoss(nn.Module):\n",
    "    def __init__(self, num_classes, token_weights, tokenizer):\n",
    "        super(CustomLoss, self).__init__()\n",
    "        self.num_classes = num_classes\n",
    "        self.tokenizer = tokenizer\n",
    "\n",
    "        # self.token_weights = token_weights\n",
    "        # self.max_seq_len = token_weights.size(0)\n",
    "        # self.arange_idx = torch.arange(0, max_seq_len).to(device)\n",
    "\n",
    "    def forward(self, logits, targets):\n",
    "\n",
    "        # no loss for the padded tokens\n",
    "        ce_loss = F.cross_entropy(logits.view(-1, self.num_classes), targets.view(-1), reduction='none', ignore_index=self.tokenizer.pad_token_id)\n",
    "\n",
    "        # bs = logits.size(0)\n",
    "        # # Create a weight mask that matches the shape of ce_loss\n",
    "        # weight_mask = self.token_weights[self.arange_idx.repeat(bs), targets.view(-1)]\n",
    "\n",
    "        # # Apply the weight mask element-wise to the CrossEntropy loss\n",
    "        # weighted_loss = ce_loss * weight_mask\n",
    "\n",
    "        # # Average the loss across non-padding positions\n",
    "        # loss = weighted_loss.mean()\n",
    "\n",
    "        loss = ce_loss.mean()\n",
    "\n",
    "        return loss"
   ]
  },
  {
   "attachments": {},
   "cell_type": "markdown",
   "metadata": {},
   "source": [
    "## Training function"
   ]
  },
  {
   "cell_type": "code",
   "execution_count": 36,
   "metadata": {},
   "outputs": [],
   "source": [
    "def train(model, data_loader, optimizer, criterion):\n",
    "    model.train()\n",
    "    total_loss = 0\n",
    "\n",
    "    for batch in data_loader:\n",
    "        input_ids, input_attention_mask, output_ids, output_attention_mask = batch\n",
    "\n",
    "        input_ids = input_ids.to(device)\n",
    "        input_attention_mask = input_attention_mask.to(device)\n",
    "        output_ids = output_ids.to(device)\n",
    "        output_attention_mask = output_attention_mask.to(device)\n",
    "\n",
    "        optimizer.zero_grad()\n",
    "\n",
    "        outputs = model(input_ids, input_attention_mask)\n",
    "\n",
    "        logits = outputs.log_softmax(dim=-1)\n",
    "        labels = output_ids\n",
    "\n",
    "        loss = criterion(logits, labels)\n",
    "\n",
    "        loss.backward()\n",
    "        optimizer.step()\n",
    "\n",
    "        total_loss += loss.item()\n",
    "\n",
    "        # # write and erase loss\n",
    "        # sys.stdout.write(f'\\rLoss: {loss.item():.4f}')\n",
    "\n",
    "    return total_loss / len(data_loader)"
   ]
  },
  {
   "cell_type": "code",
   "execution_count": 48,
   "metadata": {},
   "outputs": [
    {
     "name": "stdout",
     "output_type": "stream",
     "text": [
      "Number of parameters: 737454\n"
     ]
    }
   ],
   "source": [
    "token_weights = None\n",
    "\n",
    "# Instantiate the TransformerChatbot model\n",
    "model = TransformerChatbot(vocab_size, embedding_size, hidden_size, num_heads, num_layers, max_seq_len).to(device)\n",
    "\n",
    "# count the number of trainable parameters\n",
    "num_params = sum(p.numel() for p in model.parameters() if p.requires_grad)\n",
    "print(f'Number of parameters: {num_params}')\n",
    "\n",
    "# Define the loss function and optimizer\n",
    "criterion = CustomLoss(vocab_size, token_weights, tokenizer)\n",
    "optimizer = optim.Adam(model.parameters(), lr=0.0003)\n",
    "\n",
    "losses = []"
   ]
  },
  {
   "attachments": {},
   "cell_type": "markdown",
   "metadata": {},
   "source": [
    "## Training"
   ]
  },
  {
   "cell_type": "code",
   "execution_count": 49,
   "metadata": {},
   "outputs": [
    {
     "data": {
      "text/plain": [
       "'boll refer boll thousands archive refer serious craft serious serious serious comic comic craft craft feeling feeling feeling feeling feeling craft serious serious serious serious weevils comic experiencing experiencing experiencing experiencing feeling feeling experiencing experiencing experiencing experiencing experiencing experiencing experiencing experiencing relative relative experiencing experiencing serious serious serious serious serious serious comic comic'"
      ]
     },
     "execution_count": 49,
     "metadata": {},
     "output_type": "execute_result"
    }
   ],
   "source": [
    "str = \"Hi, how are you?\"\n",
    "model.generate(str, tokenizer=tokenizer, device=device)"
   ]
  },
  {
   "cell_type": "code",
   "execution_count": 50,
   "metadata": {},
   "outputs": [
    {
     "data": {
      "application/vnd.jupyter.widget-view+json": {
       "model_id": "d4dddb4b478b4fd4be478fb213b875b5",
       "version_major": 2,
       "version_minor": 0
      },
      "text/plain": [
       "  0%|          | 0/1000 [00:00<?, ?it/s]"
      ]
     },
     "metadata": {},
     "output_type": "display_data"
    },
    {
     "name": "stdout",
     "output_type": "stream",
     "text": [
      "Qn:  Hi, how are you?\n",
      "Epoch -1: boll refer boll thousands archive refer serious craft serious serious serious comic comic craft craft feeling feeling feeling feeling feeling craft serious serious serious serious weevils comic experiencing experiencing experiencing experiencing feeling feeling experiencing experiencing experiencing experiencing experiencing experiencing experiencing experiencing relative relative experiencing experiencing serious serious serious serious serious serious comic comic\n",
      "Epoch 9: i\n",
      "Epoch 19: i\n",
      "Epoch 29: i\n",
      "Epoch 39: i\n",
      "Epoch 49: i\n",
      "Epoch 59: i\n",
      "Epoch 69: i\n",
      "Epoch 79: i\n",
      "Epoch 89: i\n",
      "Epoch 99: good\n",
      "Epoch 109: good\n",
      "Epoch 119: good\n",
      "Epoch 129: good\n",
      "Epoch 139: good\n",
      "Epoch 149: good\n",
      "Epoch 159: okay\n",
      "Epoch 169: good\n",
      "Epoch 179: okay\n",
      "Epoch 189: okay\n",
      "Epoch 199: good\n",
      "Epoch 209: good\n",
      "Epoch 219: fine\n",
      "Epoch 229: okay\n",
      "Epoch 239: good\n",
      "Epoch 249: good\n",
      "Epoch 259: fine\n",
      "Epoch 269: fine\n",
      "Epoch 279: fine\n",
      "Epoch 289: good\n",
      "Epoch 299: fine\n",
      "Epoch 309: like\n",
      "Epoch 319: good\n",
      "Epoch 329: fine\n",
      "Epoch 339: good\n",
      "Epoch 349: fine\n",
      "Epoch 359: fine\n",
      "Epoch 369: fine\n",
      "Epoch 379: good\n",
      "Epoch 389: fine\n",
      "Epoch 399: fine\n",
      "Epoch 409: fine\n",
      "Epoch 419: fine\n",
      "Epoch 429: fine\n",
      "Epoch 439: fine\n",
      "Epoch 449: fine\n",
      "Epoch 459: fine\n",
      "Epoch 469: fine\n",
      "Epoch 479: fine\n",
      "Epoch 489: fine\n",
      "Epoch 499: fine\n",
      "Epoch 509: fine\n",
      "Epoch 519: fine\n",
      "Epoch 529: fine\n",
      "Epoch 539: fine\n",
      "Epoch 549: fine\n",
      "Epoch 559: fine\n",
      "Epoch 569: good\n",
      "Epoch 579: fine\n",
      "Epoch 589: fine\n",
      "Epoch 599: fine\n",
      "Epoch 609: fine\n",
      "Epoch 619: good\n",
      "Epoch 629: fine\n",
      "Epoch 639: okay\n",
      "Epoch 649: fine\n",
      "Epoch 659: fine\n",
      "Epoch 669: fine\n",
      "Epoch 679: fine\n",
      "Epoch 689: fine\n",
      "Epoch 699: fine\n",
      "Epoch 709: good\n",
      "Epoch 719: fine\n",
      "Epoch 729: fine\n",
      "Epoch 739: fine\n",
      "Epoch 749: fine\n",
      "Epoch 759: fine\n",
      "Epoch 769: fine\n",
      "Epoch 779: fine\n",
      "Epoch 789: fine\n",
      "Epoch 799: fine\n",
      "Epoch 809: fine\n",
      "Epoch 819: fine\n",
      "Epoch 829: fine\n",
      "Epoch 839: fine\n",
      "Epoch 849: fine\n",
      "Epoch 859: fine\n",
      "Epoch 869: fine\n",
      "Epoch 879: fine\n",
      "Epoch 889: fine\n",
      "Epoch 899: good\n",
      "Epoch 909: fine\n",
      "Epoch 919: fine\n",
      "Epoch 929: fine\n",
      "Epoch 939: fine\n",
      "Epoch 949: fine\n",
      "Epoch 959: fine\n",
      "Epoch 969: fine\n",
      "Epoch 979: fine\n",
      "Epoch 989: fine\n",
      "Epoch 999: fine\n"
     ]
    }
   ],
   "source": [
    "# Training loop\n",
    "num_epochs = 1000   \n",
    "\n",
    "for epoch in tqdm(range(num_epochs)):\n",
    "    if epoch == 0:\n",
    "        str = \"Hi, how are you?\"\n",
    "        print(\"Qn: \", str)\n",
    "        print('Epoch -1:', model.generate(str, tokenizer, device))  \n",
    "\n",
    "    train_loss = train(model, data_loader, optimizer, criterion)\n",
    "    losses.append(train_loss)\n",
    "\n",
    "    if (epoch + 1) % 10 == 0:\n",
    "        str = \"Hi, how are you?\"\n",
    "        print(f'Epoch {epoch}:', model.generate(str, tokenizer, device))            \n",
    "        model.train()"
   ]
  },
  {
   "cell_type": "code",
   "execution_count": 52,
   "metadata": {},
   "outputs": [
    {
     "data": {
      "text/plain": [
       "Text(0, 0.5, 'Loss')"
      ]
     },
     "execution_count": 52,
     "metadata": {},
     "output_type": "execute_result"
    },
    {
     "data": {
      "image/png": "[encoded data removed]",
      "text/plain": [
       "<Figure size 640x480 with 1 Axes>"
      ]
     },
     "metadata": {},
     "output_type": "display_data"
    }
   ],
   "source": [
    "plt.plot(losses)\n",
    "plt.xlabel('Epoch')\n",
    "plt.ylabel('Loss')"
   ]
  },
  {
   "cell_type": "code",
   "execution_count": 56,
   "metadata": {},
   "outputs": [],
   "source": [
    "# # save model\n",
    "# torch.save(model.state_dict(), 'model.pth')"
   ]
  },
  {
   "cell_type": "code",
   "execution_count": 54,
   "metadata": {},
   "outputs": [],
   "source": [
    "# model.load_state_dict(torch.load('model.pth'))"
   ]
  },
  {
   "attachments": {},
   "cell_type": "markdown",
   "metadata": {},
   "source": [
    "## Stochasticity in chatbot response (with sampling)\n"
   ]
  },
  {
   "cell_type": "code",
   "execution_count": 55,
   "metadata": {},
   "outputs": [
    {
     "name": "stdout",
     "output_type": "stream",
     "text": [
      "Qn:  Hi, how are you? \n",
      "\n",
      "------------------------------\n",
      "without sampling (argmax)\n",
      "------------------------------\n",
      "fine\n",
      "fine\n",
      "fine\n",
      "\n",
      "------------------------------\n",
      "with sampling\n",
      "------------------------------\n",
      "fine\n",
      "okay doing i ? and , . ' . fine money today about you entire ? , , i , , ? . m , ? . , get like\n",
      "too lost great good how ? you . ' s\n",
      "good m fine well .\n",
      "too lost great good how ? you . ' s\n"
     ]
    }
   ],
   "source": [
    "str = \"Hi, how are you?\"\n",
    "\n",
    "print(\"Qn: \", str, '\\n')\n",
    "\n",
    "print('-'*30)\n",
    "print('without sampling (argmax)')\n",
    "print('-'*30)\n",
    "for i in range(3):\n",
    "    print(model.generate(str, tokenizer, device, sample=False)) \n",
    "\n",
    "print()\n",
    "print('-'*30)\n",
    "print('with sampling')\n",
    "print('-'*30)\n",
    "for i in range(5):\n",
    "    print(model.generate(str, tokenizer, device, sample=True))"
   ]
  },
  {
   "cell_type": "code",
   "execution_count": null,
   "metadata": {},
   "outputs": [],
   "source": []
  }
 ],
 "metadata": {
  "kernelspec": {
   "display_name": "sup_res",
   "language": "python",
   "name": "python3"
  },
  "language_info": {
   "codemirror_mode": {
    "name": "ipython",
    "version": 3
   },
   "file_extension": ".py",
   "mimetype": "text/x-python",
   "name": "python",
   "nbconvert_exporter": "python",
   "pygments_lexer": "ipython3",
   "version": "3.9.16"
  },
  "orig_nbformat": 4
 },
 "nbformat": 4,
 "nbformat_minor": 2
}
