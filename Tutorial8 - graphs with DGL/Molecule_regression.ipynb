{
 "cells": [
  {
   "cell_type": "code",
   "execution_count": 83,
   "metadata": {},
   "outputs": [],
   "source": [
    "import numpy as np\n",
    "import matplotlib.pyplot as plt\n",
    "import torch.nn as nn\n",
    "from torch.utils.data import Dataset, DataLoader\n",
    "import torch\n",
    "import dgl\n",
    "from dgl.data import QM9EdgeDataset\n",
    "\n",
    "from visualizer import draw_plotly"
   ]
  },
  {
   "cell_type": "code",
   "execution_count": 61,
   "metadata": {},
   "outputs": [
    {
     "name": "stdout",
     "output_type": "stream",
     "text": [
      "The autoreload extension is already loaded. To reload it, use:\n",
      "  %reload_ext autoreload\n"
     ]
    }
   ],
   "source": [
    "%load_ext autoreload\n",
    "%autoreload 2"
   ]
  },
  {
   "cell_type": "code",
   "execution_count": 66,
   "metadata": {},
   "outputs": [
    {
     "name": "stdout",
     "output_type": "stream",
     "text": [
      "Done loading data from cached files.\n"
     ]
    }
   ],
   "source": [
    "data = QM9EdgeDataset(label_keys=['mu'])"
   ]
  },
  {
   "cell_type": "code",
   "execution_count": 4,
   "metadata": {},
   "outputs": [
    {
     "data": {
      "text/plain": [
       "130831"
      ]
     },
     "execution_count": 4,
     "metadata": {},
     "output_type": "execute_result"
    }
   ],
   "source": [
    "len(data)"
   ]
  },
  {
   "cell_type": "code",
   "execution_count": 67,
   "metadata": {},
   "outputs": [],
   "source": [
    "g, labels = data.__getitem__(100000)"
   ]
  },
  {
   "cell_type": "code",
   "execution_count": 6,
   "metadata": {},
   "outputs": [
    {
     "data": {
      "application/vnd.plotly.v1+json": {
       "config": {
        "linkText": "Export to plot.ly",
        "plotlyServerURL": "https://plot.ly",
        "showLink": false
       },
       "data": [
        {
         "hovertemplate": "<b>%{text}</b><br>",
         "marker": {
          "color": [
           "black",
           "black",
           "blue",
           "black",
           "blue",
           "black",
           "blue",
           "black",
           "red",
           "white",
           "white",
           "white",
           "white",
           "white",
           "white",
           "white",
           "white",
           "white"
          ],
          "line": {
           "color": "rgb(50,50,50)",
           "width": 2
          },
          "size": [
           30,
           30,
           35,
           30,
           35,
           30,
           35,
           30,
           40,
           5,
           5,
           5,
           5,
           5,
           5,
           5,
           5,
           5
          ],
          "symbol": "circle"
         },
         "mode": "markers",
         "name": "atom",
         "text": [
          "C",
          "C",
          "N",
          "C",
          "N",
          "C",
          "N",
          "C",
          "O",
          "H",
          "H",
          "H",
          "H",
          "H",
          "H",
          "H",
          "H",
          "H"
         ],
         "type": "scatter3d",
         "x": [
          0.9480000138282776,
          -0.05490000173449516,
          -1.4190000295639038,
          -2.4386000633239746,
          -3.6668999195098877,
          -1.7129000425338745,
          -0.9021000266075134,
          -2.9405999183654785,
          -3.424099922180176,
          1.941499948501587,
          0.6646000146865845,
          1.0111000537872314,
          -0.09969999641180038,
          0.2475000023841858,
          -2.063800096511841,
          -4.275700092315674,
          -1.2879999876022339,
          -3.276900053024292
         ],
         "y": [
          0.426800012588501,
          -0.6075999736785889,
          -0.36980000138282776,
          -0.12290000170469284,
          -0.2563999891281128,
          -0.7006999850273132,
          -1.402999997138977,
          -0.0632999986410141,
          -0.5303999781608582,
          0.20970000326633453,
          1.4375,
          0.3970000147819519,
          -0.5949000120162964,
          -1.611299991607666,
          0.18930000066757202,
          0.024900000542402267,
          -1.5018999576568604,
          0.8920000195503235
         ],
         "z": [
          0.07339999824762344,
          -0.4350999891757965,
          0.059700001031160355,
          -0.8377000093460083,
          -0.5288000106811523,
          1.3875000476837158,
          2.0738000869750977,
          2.0248000621795654,
          3.0239999294281006,
          -0.3303000032901764,
          -0.23639999330043793,
          1.1632000207901,
          -1.527400016784668,
          -0.12520000338554382,
          -1.8178000450134277,
          -1.2926000356674194,
          3.0157999992370605,
          1.5913000106811523
         ]
        },
        {
         "hoverinfo": "none",
         "line": {
          "color": "rgb(125,125,125,0.6)",
          "width": 3
         },
         "mode": "lines",
         "type": "scatter3d",
         "x": [
          0.9480000138282776,
          -0.05490000173449516,
          null,
          0.9480000138282776,
          1.941499948501587,
          null,
          0.9480000138282776,
          0.6646000146865845,
          null,
          0.9480000138282776,
          1.0111000537872314,
          null,
          -0.05490000173449516,
          0.9480000138282776,
          null,
          -0.05490000173449516,
          -1.4190000295639038,
          null,
          -0.05490000173449516,
          -0.09969999641180038,
          null,
          -0.05490000173449516,
          0.2475000023841858,
          null,
          -1.4190000295639038,
          -0.05490000173449516,
          null,
          -1.4190000295639038,
          -2.4386000633239746,
          null,
          -1.4190000295639038,
          -1.7129000425338745,
          null,
          -2.4386000633239746,
          -1.4190000295639038,
          null,
          -2.4386000633239746,
          -3.6668999195098877,
          null,
          -2.4386000633239746,
          -2.063800096511841,
          null,
          -3.6668999195098877,
          -2.4386000633239746,
          null,
          -3.6668999195098877,
          -4.275700092315674,
          null,
          -1.7129000425338745,
          -1.4190000295639038,
          null,
          -1.7129000425338745,
          -0.9021000266075134,
          null,
          -1.7129000425338745,
          -2.9405999183654785,
          null,
          -0.9021000266075134,
          -1.7129000425338745,
          null,
          -0.9021000266075134,
          -1.2879999876022339,
          null,
          -2.9405999183654785,
          -1.7129000425338745,
          null,
          -2.9405999183654785,
          -3.424099922180176,
          null,
          -2.9405999183654785,
          -3.276900053024292,
          null,
          -3.424099922180176,
          -2.9405999183654785,
          null,
          1.941499948501587,
          0.9480000138282776,
          null,
          0.6646000146865845,
          0.9480000138282776,
          null,
          1.0111000537872314,
          0.9480000138282776,
          null,
          -0.09969999641180038,
          -0.05490000173449516,
          null,
          0.2475000023841858,
          -0.05490000173449516,
          null,
          -2.063800096511841,
          -2.4386000633239746,
          null,
          -4.275700092315674,
          -3.6668999195098877,
          null,
          -1.2879999876022339,
          -0.9021000266075134,
          null,
          -3.276900053024292,
          -2.9405999183654785,
          null
         ],
         "y": [
          0.426800012588501,
          -0.6075999736785889,
          null,
          0.426800012588501,
          0.20970000326633453,
          null,
          0.426800012588501,
          1.4375,
          null,
          0.426800012588501,
          0.3970000147819519,
          null,
          -0.6075999736785889,
          0.426800012588501,
          null,
          -0.6075999736785889,
          -0.36980000138282776,
          null,
          -0.6075999736785889,
          -0.5949000120162964,
          null,
          -0.6075999736785889,
          -1.611299991607666,
          null,
          -0.36980000138282776,
          -0.6075999736785889,
          null,
          -0.36980000138282776,
          -0.12290000170469284,
          null,
          -0.36980000138282776,
          -0.7006999850273132,
          null,
          -0.12290000170469284,
          -0.36980000138282776,
          null,
          -0.12290000170469284,
          -0.2563999891281128,
          null,
          -0.12290000170469284,
          0.18930000066757202,
          null,
          -0.2563999891281128,
          -0.12290000170469284,
          null,
          -0.2563999891281128,
          0.024900000542402267,
          null,
          -0.7006999850273132,
          -0.36980000138282776,
          null,
          -0.7006999850273132,
          -1.402999997138977,
          null,
          -0.7006999850273132,
          -0.0632999986410141,
          null,
          -1.402999997138977,
          -0.7006999850273132,
          null,
          -1.402999997138977,
          -1.5018999576568604,
          null,
          -0.0632999986410141,
          -0.7006999850273132,
          null,
          -0.0632999986410141,
          -0.5303999781608582,
          null,
          -0.0632999986410141,
          0.8920000195503235,
          null,
          -0.5303999781608582,
          -0.0632999986410141,
          null,
          0.20970000326633453,
          0.426800012588501,
          null,
          1.4375,
          0.426800012588501,
          null,
          0.3970000147819519,
          0.426800012588501,
          null,
          -0.5949000120162964,
          -0.6075999736785889,
          null,
          -1.611299991607666,
          -0.6075999736785889,
          null,
          0.18930000066757202,
          -0.12290000170469284,
          null,
          0.024900000542402267,
          -0.2563999891281128,
          null,
          -1.5018999576568604,
          -1.402999997138977,
          null,
          0.8920000195503235,
          -0.0632999986410141,
          null
         ],
         "z": [
          0.07339999824762344,
          -0.4350999891757965,
          null,
          0.07339999824762344,
          -0.3303000032901764,
          null,
          0.07339999824762344,
          -0.23639999330043793,
          null,
          0.07339999824762344,
          1.1632000207901,
          null,
          -0.4350999891757965,
          0.07339999824762344,
          null,
          -0.4350999891757965,
          0.059700001031160355,
          null,
          -0.4350999891757965,
          -1.527400016784668,
          null,
          -0.4350999891757965,
          -0.12520000338554382,
          null,
          0.059700001031160355,
          -0.4350999891757965,
          null,
          0.059700001031160355,
          -0.8377000093460083,
          null,
          0.059700001031160355,
          1.3875000476837158,
          null,
          -0.8377000093460083,
          0.059700001031160355,
          null,
          -0.8377000093460083,
          -0.5288000106811523,
          null,
          -0.8377000093460083,
          -1.8178000450134277,
          null,
          -0.5288000106811523,
          -0.8377000093460083,
          null,
          -0.5288000106811523,
          -1.2926000356674194,
          null,
          1.3875000476837158,
          0.059700001031160355,
          null,
          1.3875000476837158,
          2.0738000869750977,
          null,
          1.3875000476837158,
          2.0248000621795654,
          null,
          2.0738000869750977,
          1.3875000476837158,
          null,
          2.0738000869750977,
          3.0157999992370605,
          null,
          2.0248000621795654,
          1.3875000476837158,
          null,
          2.0248000621795654,
          3.0239999294281006,
          null,
          2.0248000621795654,
          1.5913000106811523,
          null,
          3.0239999294281006,
          2.0248000621795654,
          null,
          -0.3303000032901764,
          0.07339999824762344,
          null,
          -0.23639999330043793,
          0.07339999824762344,
          null,
          1.1632000207901,
          0.07339999824762344,
          null,
          -1.527400016784668,
          -0.4350999891757965,
          null,
          -0.12520000338554382,
          -0.4350999891757965,
          null,
          -1.8178000450134277,
          -0.8377000093460083,
          null,
          -1.2926000356674194,
          -0.5288000106811523,
          null,
          3.0157999992370605,
          2.0738000869750977,
          null,
          1.5913000106811523,
          2.0248000621795654,
          null
         ]
        }
       ],
       "layout": {
        "height": 800,
        "hovermode": "closest",
        "legend": {
         "font": {
          "size": 10
         },
         "orientation": "h"
        },
        "margin": {
         "t": 100
        },
        "scene": {
         "aspectratio": {
          "x": 1,
          "y": 1,
          "z": 1
         },
         "xaxis": {
          "range": [
           -5,
           5
          ],
          "showbackground": false,
          "showgrid": true,
          "showline": true,
          "showticklabels": true,
          "visible": true,
          "zeroline": false
         },
         "yaxis": {
          "range": [
           -5,
           5
          ],
          "showbackground": false,
          "showgrid": true,
          "showline": true,
          "showticklabels": true,
          "visible": true,
          "zeroline": false
         },
         "zaxis": {
          "range": [
           -5,
           5
          ],
          "showbackground": false,
          "showgrid": true,
          "showline": true,
          "showticklabels": true,
          "visible": true,
          "zeroline": false
         }
        },
        "showlegend": false,
        "template": {
         "data": {
          "bar": [
           {
            "error_x": {
             "color": "#2a3f5f"
            },
            "error_y": {
             "color": "#2a3f5f"
            },
            "marker": {
             "line": {
              "color": "#E5ECF6",
              "width": 0.5
             },
             "pattern": {
              "fillmode": "overlay",
              "size": 10,
              "solidity": 0.2
             }
            },
            "type": "bar"
           }
          ],
          "barpolar": [
           {
            "marker": {
             "line": {
              "color": "#E5ECF6",
              "width": 0.5
             },
             "pattern": {
              "fillmode": "overlay",
              "size": 10,
              "solidity": 0.2
             }
            },
            "type": "barpolar"
           }
          ],
          "carpet": [
           {
            "aaxis": {
             "endlinecolor": "#2a3f5f",
             "gridcolor": "white",
             "linecolor": "white",
             "minorgridcolor": "white",
             "startlinecolor": "#2a3f5f"
            },
            "baxis": {
             "endlinecolor": "#2a3f5f",
             "gridcolor": "white",
             "linecolor": "white",
             "minorgridcolor": "white",
             "startlinecolor": "#2a3f5f"
            },
            "type": "carpet"
           }
          ],
          "choropleth": [
           {
            "colorbar": {
             "outlinewidth": 0,
             "ticks": ""
            },
            "type": "choropleth"
           }
          ],
          "contour": [
           {
            "colorbar": {
             "outlinewidth": 0,
             "ticks": ""
            },
            "colorscale": [
             [
              0,
              "#0d0887"
             ],
             [
              0.1111111111111111,
              "#46039f"
             ],
             [
              0.2222222222222222,
              "#7201a8"
             ],
             [
              0.3333333333333333,
              "#9c179e"
             ],
             [
              0.4444444444444444,
              "#bd3786"
             ],
             [
              0.5555555555555556,
              "#d8576b"
             ],
             [
              0.6666666666666666,
              "#ed7953"
             ],
             [
              0.7777777777777778,
              "#fb9f3a"
             ],
             [
              0.8888888888888888,
              "#fdca26"
             ],
             [
              1,
              "#f0f921"
             ]
            ],
            "type": "contour"
           }
          ],
          "contourcarpet": [
           {
            "colorbar": {
             "outlinewidth": 0,
             "ticks": ""
            },
            "type": "contourcarpet"
           }
          ],
          "heatmap": [
           {
            "colorbar": {
             "outlinewidth": 0,
             "ticks": ""
            },
            "colorscale": [
             [
              0,
              "#0d0887"
             ],
             [
              0.1111111111111111,
              "#46039f"
             ],
             [
              0.2222222222222222,
              "#7201a8"
             ],
             [
              0.3333333333333333,
              "#9c179e"
             ],
             [
              0.4444444444444444,
              "#bd3786"
             ],
             [
              0.5555555555555556,
              "#d8576b"
             ],
             [
              0.6666666666666666,
              "#ed7953"
             ],
             [
              0.7777777777777778,
              "#fb9f3a"
             ],
             [
              0.8888888888888888,
              "#fdca26"
             ],
             [
              1,
              "#f0f921"
             ]
            ],
            "type": "heatmap"
           }
          ],
          "heatmapgl": [
           {
            "colorbar": {
             "outlinewidth": 0,
             "ticks": ""
            },
            "colorscale": [
             [
              0,
              "#0d0887"
             ],
             [
              0.1111111111111111,
              "#46039f"
             ],
             [
              0.2222222222222222,
              "#7201a8"
             ],
             [
              0.3333333333333333,
              "#9c179e"
             ],
             [
              0.4444444444444444,
              "#bd3786"
             ],
             [
              0.5555555555555556,
              "#d8576b"
             ],
             [
              0.6666666666666666,
              "#ed7953"
             ],
             [
              0.7777777777777778,
              "#fb9f3a"
             ],
             [
              0.8888888888888888,
              "#fdca26"
             ],
             [
              1,
              "#f0f921"
             ]
            ],
            "type": "heatmapgl"
           }
          ],
          "histogram": [
           {
            "marker": {
             "pattern": {
              "fillmode": "overlay",
              "size": 10,
              "solidity": 0.2
             }
            },
            "type": "histogram"
           }
          ],
          "histogram2d": [
           {
            "colorbar": {
             "outlinewidth": 0,
             "ticks": ""
            },
            "colorscale": [
             [
              0,
              "#0d0887"
             ],
             [
              0.1111111111111111,
              "#46039f"
             ],
             [
              0.2222222222222222,
              "#7201a8"
             ],
             [
              0.3333333333333333,
              "#9c179e"
             ],
             [
              0.4444444444444444,
              "#bd3786"
             ],
             [
              0.5555555555555556,
              "#d8576b"
             ],
             [
              0.6666666666666666,
              "#ed7953"
             ],
             [
              0.7777777777777778,
              "#fb9f3a"
             ],
             [
              0.8888888888888888,
              "#fdca26"
             ],
             [
              1,
              "#f0f921"
             ]
            ],
            "type": "histogram2d"
           }
          ],
          "histogram2dcontour": [
           {
            "colorbar": {
             "outlinewidth": 0,
             "ticks": ""
            },
            "colorscale": [
             [
              0,
              "#0d0887"
             ],
             [
              0.1111111111111111,
              "#46039f"
             ],
             [
              0.2222222222222222,
              "#7201a8"
             ],
             [
              0.3333333333333333,
              "#9c179e"
             ],
             [
              0.4444444444444444,
              "#bd3786"
             ],
             [
              0.5555555555555556,
              "#d8576b"
             ],
             [
              0.6666666666666666,
              "#ed7953"
             ],
             [
              0.7777777777777778,
              "#fb9f3a"
             ],
             [
              0.8888888888888888,
              "#fdca26"
             ],
             [
              1,
              "#f0f921"
             ]
            ],
            "type": "histogram2dcontour"
           }
          ],
          "mesh3d": [
           {
            "colorbar": {
             "outlinewidth": 0,
             "ticks": ""
            },
            "type": "mesh3d"
           }
          ],
          "parcoords": [
           {
            "line": {
             "colorbar": {
              "outlinewidth": 0,
              "ticks": ""
             }
            },
            "type": "parcoords"
           }
          ],
          "pie": [
           {
            "automargin": true,
            "type": "pie"
           }
          ],
          "scatter": [
           {
            "fillpattern": {
             "fillmode": "overlay",
             "size": 10,
             "solidity": 0.2
            },
            "type": "scatter"
           }
          ],
          "scatter3d": [
           {
            "line": {
             "colorbar": {
              "outlinewidth": 0,
              "ticks": ""
             }
            },
            "marker": {
             "colorbar": {
              "outlinewidth": 0,
              "ticks": ""
             }
            },
            "type": "scatter3d"
           }
          ],
          "scattercarpet": [
           {
            "marker": {
             "colorbar": {
              "outlinewidth": 0,
              "ticks": ""
             }
            },
            "type": "scattercarpet"
           }
          ],
          "scattergeo": [
           {
            "marker": {
             "colorbar": {
              "outlinewidth": 0,
              "ticks": ""
             }
            },
            "type": "scattergeo"
           }
          ],
          "scattergl": [
           {
            "marker": {
             "colorbar": {
              "outlinewidth": 0,
              "ticks": ""
             }
            },
            "type": "scattergl"
           }
          ],
          "scattermapbox": [
           {
            "marker": {
             "colorbar": {
              "outlinewidth": 0,
              "ticks": ""
             }
            },
            "type": "scattermapbox"
           }
          ],
          "scatterpolar": [
           {
            "marker": {
             "colorbar": {
              "outlinewidth": 0,
              "ticks": ""
             }
            },
            "type": "scatterpolar"
           }
          ],
          "scatterpolargl": [
           {
            "marker": {
             "colorbar": {
              "outlinewidth": 0,
              "ticks": ""
             }
            },
            "type": "scatterpolargl"
           }
          ],
          "scatterternary": [
           {
            "marker": {
             "colorbar": {
              "outlinewidth": 0,
              "ticks": ""
             }
            },
            "type": "scatterternary"
           }
          ],
          "surface": [
           {
            "colorbar": {
             "outlinewidth": 0,
             "ticks": ""
            },
            "colorscale": [
             [
              0,
              "#0d0887"
             ],
             [
              0.1111111111111111,
              "#46039f"
             ],
             [
              0.2222222222222222,
              "#7201a8"
             ],
             [
              0.3333333333333333,
              "#9c179e"
             ],
             [
              0.4444444444444444,
              "#bd3786"
             ],
             [
              0.5555555555555556,
              "#d8576b"
             ],
             [
              0.6666666666666666,
              "#ed7953"
             ],
             [
              0.7777777777777778,
              "#fb9f3a"
             ],
             [
              0.8888888888888888,
              "#fdca26"
             ],
             [
              1,
              "#f0f921"
             ]
            ],
            "type": "surface"
           }
          ],
          "table": [
           {
            "cells": {
             "fill": {
              "color": "#EBF0F8"
             },
             "line": {
              "color": "white"
             }
            },
            "header": {
             "fill": {
              "color": "#C8D4E3"
             },
             "line": {
              "color": "white"
             }
            },
            "type": "table"
           }
          ]
         },
         "layout": {
          "annotationdefaults": {
           "arrowcolor": "#2a3f5f",
           "arrowhead": 0,
           "arrowwidth": 1
          },
          "autotypenumbers": "strict",
          "coloraxis": {
           "colorbar": {
            "outlinewidth": 0,
            "ticks": ""
           }
          },
          "colorscale": {
           "diverging": [
            [
             0,
             "#8e0152"
            ],
            [
             0.1,
             "#c51b7d"
            ],
            [
             0.2,
             "#de77ae"
            ],
            [
             0.3,
             "#f1b6da"
            ],
            [
             0.4,
             "#fde0ef"
            ],
            [
             0.5,
             "#f7f7f7"
            ],
            [
             0.6,
             "#e6f5d0"
            ],
            [
             0.7,
             "#b8e186"
            ],
            [
             0.8,
             "#7fbc41"
            ],
            [
             0.9,
             "#4d9221"
            ],
            [
             1,
             "#276419"
            ]
           ],
           "sequential": [
            [
             0,
             "#0d0887"
            ],
            [
             0.1111111111111111,
             "#46039f"
            ],
            [
             0.2222222222222222,
             "#7201a8"
            ],
            [
             0.3333333333333333,
             "#9c179e"
            ],
            [
             0.4444444444444444,
             "#bd3786"
            ],
            [
             0.5555555555555556,
             "#d8576b"
            ],
            [
             0.6666666666666666,
             "#ed7953"
            ],
            [
             0.7777777777777778,
             "#fb9f3a"
            ],
            [
             0.8888888888888888,
             "#fdca26"
            ],
            [
             1,
             "#f0f921"
            ]
           ],
           "sequentialminus": [
            [
             0,
             "#0d0887"
            ],
            [
             0.1111111111111111,
             "#46039f"
            ],
            [
             0.2222222222222222,
             "#7201a8"
            ],
            [
             0.3333333333333333,
             "#9c179e"
            ],
            [
             0.4444444444444444,
             "#bd3786"
            ],
            [
             0.5555555555555556,
             "#d8576b"
            ],
            [
             0.6666666666666666,
             "#ed7953"
            ],
            [
             0.7777777777777778,
             "#fb9f3a"
            ],
            [
             0.8888888888888888,
             "#fdca26"
            ],
            [
             1,
             "#f0f921"
            ]
           ]
          },
          "colorway": [
           "#636efa",
           "#EF553B",
           "#00cc96",
           "#ab63fa",
           "#FFA15A",
           "#19d3f3",
           "#FF6692",
           "#B6E880",
           "#FF97FF",
           "#FECB52"
          ],
          "font": {
           "color": "#2a3f5f"
          },
          "geo": {
           "bgcolor": "white",
           "lakecolor": "white",
           "landcolor": "#E5ECF6",
           "showlakes": true,
           "showland": true,
           "subunitcolor": "white"
          },
          "hoverlabel": {
           "align": "left"
          },
          "hovermode": "closest",
          "mapbox": {
           "style": "light"
          },
          "paper_bgcolor": "white",
          "plot_bgcolor": "#E5ECF6",
          "polar": {
           "angularaxis": {
            "gridcolor": "white",
            "linecolor": "white",
            "ticks": ""
           },
           "bgcolor": "#E5ECF6",
           "radialaxis": {
            "gridcolor": "white",
            "linecolor": "white",
            "ticks": ""
           }
          },
          "scene": {
           "xaxis": {
            "backgroundcolor": "#E5ECF6",
            "gridcolor": "white",
            "gridwidth": 2,
            "linecolor": "white",
            "showbackground": true,
            "ticks": "",
            "zerolinecolor": "white"
           },
           "yaxis": {
            "backgroundcolor": "#E5ECF6",
            "gridcolor": "white",
            "gridwidth": 2,
            "linecolor": "white",
            "showbackground": true,
            "ticks": "",
            "zerolinecolor": "white"
           },
           "zaxis": {
            "backgroundcolor": "#E5ECF6",
            "gridcolor": "white",
            "gridwidth": 2,
            "linecolor": "white",
            "showbackground": true,
            "ticks": "",
            "zerolinecolor": "white"
           }
          },
          "shapedefaults": {
           "line": {
            "color": "#2a3f5f"
           }
          },
          "ternary": {
           "aaxis": {
            "gridcolor": "white",
            "linecolor": "white",
            "ticks": ""
           },
           "baxis": {
            "gridcolor": "white",
            "linecolor": "white",
            "ticks": ""
           },
           "bgcolor": "#E5ECF6",
           "caxis": {
            "gridcolor": "white",
            "linecolor": "white",
            "ticks": ""
           }
          },
          "title": {
           "x": 0.05
          },
          "xaxis": {
           "automargin": true,
           "gridcolor": "white",
           "linecolor": "white",
           "ticks": "",
           "title": {
            "standoff": 15
           },
           "zerolinecolor": "white",
           "zerolinewidth": 2
          },
          "yaxis": {
           "automargin": true,
           "gridcolor": "white",
           "linecolor": "white",
           "ticks": "",
           "title": {
            "standoff": 15
           },
           "zerolinecolor": "white",
           "zerolinewidth": 2
          }
         }
        },
        "width": 800
       }
      }
     },
     "metadata": {},
     "output_type": "display_data"
    }
   ],
   "source": [
    "draw_plotly(g)"
   ]
  },
  {
   "cell_type": "code",
   "execution_count": 106,
   "metadata": {},
   "outputs": [],
   "source": [
    "from model import MoleculeMPNN"
   ]
  },
  {
   "cell_type": "code",
   "execution_count": 88,
   "metadata": {},
   "outputs": [],
   "source": [
    "net = MoleculeMPNN()"
   ]
  },
  {
   "cell_type": "code",
   "execution_count": 51,
   "metadata": {},
   "outputs": [
    {
     "data": {
      "text/plain": [
       "247937"
      ]
     },
     "execution_count": 51,
     "metadata": {},
     "output_type": "execute_result"
    }
   ],
   "source": [
    "### number of parameters ###\n",
    "sum(p.numel() for p in net.parameters())"
   ]
  },
  {
   "cell_type": "code",
   "execution_count": 110,
   "metadata": {},
   "outputs": [
    {
     "data": {
      "text/plain": [
       "tensor([4.0399])"
      ]
     },
     "execution_count": 110,
     "metadata": {},
     "output_type": "execute_result"
    }
   ],
   "source": [
    "labels"
   ]
  },
  {
   "cell_type": "code",
   "execution_count": 78,
   "metadata": {},
   "outputs": [],
   "source": [
    "### Modified from https://docs.dgl.ai/en/0.2.x/tutorials/basics/4_batch.html ### \n",
    "def collate(samples):\n",
    "    # The input `samples` is a list of pairs\n",
    "    #  (graph, label).\n",
    "    graphs, labels = map(list, zip(*samples))\n",
    "    batched_graph = dgl.batch(graphs)\n",
    "    labels = torch.row_stack(labels)\n",
    "    return batched_graph, labels"
   ]
  },
  {
   "cell_type": "code",
   "execution_count": 95,
   "metadata": {},
   "outputs": [],
   "source": [
    "train_dataset = torch.utils.data.Subset(data,range(10000))\n",
    "valid_dataset = torch.utils.data.Subset(data,range(10000,11000))\n",
    "test_dataset = torch.utils.data.Subset(data,range(20000,21000))\n",
    "\n",
    "train_dataloader = DataLoader(train_dataset, batch_size=20, shuffle=True, collate_fn=collate)\n",
    "valid_dataloader = DataLoader(valid_dataset, batch_size=20, collate_fn=collate)\n",
    "test_dataloader  = DataLoader(test_dataset,  batch_size=1, collate_fn=collate)"
   ]
  },
  {
   "cell_type": "code",
   "execution_count": 90,
   "metadata": {},
   "outputs": [
    {
     "data": {
      "text/plain": [
       "tensor([[-0.1247]], grad_fn=<AddmmBackward0>)"
      ]
     },
     "execution_count": 90,
     "metadata": {},
     "output_type": "execute_result"
    }
   ],
   "source": [
    "net(g)"
   ]
  },
  {
   "cell_type": "code",
   "execution_count": 91,
   "metadata": {},
   "outputs": [
    {
     "data": {
      "application/vnd.jupyter.widget-view+json": {
       "model_id": "9269ccbcba6543cf9b19b09bfc3803e1",
       "version_major": 2,
       "version_minor": 0
      },
      "text/plain": [
       "  0%|          | 0/60 [00:00<?, ?it/s]"
      ]
     },
     "metadata": {},
     "output_type": "display_data"
    },
    {
     "name": "stdout",
     "output_type": "stream",
     "text": [
      "Epoch:  0  Train loss:  2.3572858699560166  Valid loss:  1.2709197771549225\n",
      "Epoch:  1  Train loss:  1.6969651147723197  Valid loss:  1.1035241532325744\n",
      "Epoch:  2  Train loss:  1.5254307169914245  Valid loss:  1.075935541987419\n",
      "Epoch:  3  Train loss:  1.4611416605114937  Valid loss:  1.255244265794754\n",
      "Epoch:  4  Train loss:  1.4382637178897857  Valid loss:  1.3491672080755235\n",
      "Epoch:  5  Train loss:  1.4312407625317574  Valid loss:  1.2844930559396743\n",
      "Epoch:  6  Train loss:  1.3991810779869556  Valid loss:  1.010903885960579\n",
      "Epoch:  7  Train loss:  1.3663708969354629  Valid loss:  0.9744100570678711\n",
      "Epoch:  8  Train loss:  1.3544548386633397  Valid loss:  1.0387725150585174\n",
      "Epoch:  9  Train loss:  1.348897396326065  Valid loss:  0.9772606456279754\n",
      "Epoch:  10  Train loss:  1.3264543783068656  Valid loss:  1.0178258174657822\n",
      "Epoch:  11  Train loss:  1.3183200879096986  Valid loss:  1.1398061800003052\n",
      "Epoch:  12  Train loss:  1.291428287744522  Valid loss:  1.058983393907547\n",
      "Epoch:  13  Train loss:  1.2937890194654464  Valid loss:  0.9538610306382179\n",
      "Epoch:  14  Train loss:  1.274944627583027  Valid loss:  1.135405988097191\n",
      "Epoch:  15  Train loss:  1.2694096816182137  Valid loss:  0.9933478617668152\n",
      "Epoch:  16  Train loss:  1.2463608313798904  Valid loss:  1.0924722307920456\n",
      "Epoch:  17  Train loss:  1.2433131824135781  Valid loss:  0.9888580018281936\n",
      "Epoch:  18  Train loss:  1.201802434563637  Valid loss:  1.303837499022484\n",
      "Epoch:  19  Train loss:  1.2232263895869255  Valid loss:  0.9621110844612122\n",
      "Epoch:  20  Train loss:  1.1624971695542337  Valid loss:  0.9758511823415756\n",
      "Epoch:  21  Train loss:  1.1660293046832084  Valid loss:  1.1587335175275804\n",
      "Epoch:  22  Train loss:  1.163015682399273  Valid loss:  1.836761069893837\n",
      "Epoch:  23  Train loss:  1.111443151950836  Valid loss:  1.0571834951639176\n",
      "Epoch:  24  Train loss:  1.113893362224102  Valid loss:  1.0354741871356965\n",
      "Epoch:  25  Train loss:  1.1039401251077652  Valid loss:  0.9228772652149201\n",
      "Epoch:  26  Train loss:  1.0767515962719918  Valid loss:  0.9312411952018738\n",
      "Epoch:  27  Train loss:  1.0723457913398742  Valid loss:  0.9623289704322815\n",
      "Epoch:  28  Train loss:  1.076672588467598  Valid loss:  0.9699641013145447\n",
      "Epoch:  29  Train loss:  1.0423873304128646  Valid loss:  1.0675441539287567\n",
      "Epoch:  30  Train loss:  1.0712940475344659  Valid loss:  1.0383217099308968\n",
      "Epoch:  31  Train loss:  1.030812664449215  Valid loss:  1.0070502600073814\n",
      "Epoch:  32  Train loss:  1.0205007610321044  Valid loss:  1.063993291258812\n",
      "Epoch:  33  Train loss:  1.0144899404644967  Valid loss:  1.1003984594345093\n",
      "Epoch:  34  Train loss:  0.985932479918003  Valid loss:  0.9849075883626938\n",
      "Epoch:  35  Train loss:  0.9731872287988663  Valid loss:  1.0504169940948487\n",
      "Epoch:  36  Train loss:  0.9643286693692207  Valid loss:  0.851049257516861\n",
      "Epoch:  37  Train loss:  1.0096287319064141  Valid loss:  0.9555574184656144\n",
      "Epoch:  38  Train loss:  0.9298466552197934  Valid loss:  0.8718858191370964\n",
      "Epoch:  39  Train loss:  0.9452597897350788  Valid loss:  0.904023277759552\n",
      "Epoch:  40  Train loss:  0.9682832382619381  Valid loss:  0.8894396692514419\n",
      "Epoch:  41  Train loss:  0.9803866262435913  Valid loss:  0.9204662366211415\n",
      "Epoch:  42  Train loss:  0.9730421242415905  Valid loss:  1.0640823417901992\n",
      "Epoch:  43  Train loss:  0.8970123437941074  Valid loss:  0.8998036091029644\n",
      "Epoch:  44  Train loss:  0.9189502407610416  Valid loss:  0.9055929413437843\n",
      "Epoch:  45  Train loss:  0.8999177994430065  Valid loss:  0.9696258187294007\n",
      "Epoch:  46  Train loss:  1.1190728538036347  Valid loss:  0.9401171630620957\n",
      "Epoch:  47  Train loss:  1.0354377153515815  Valid loss:  0.9360753670334816\n",
      "Epoch:  48  Train loss:  1.0122948058247567  Valid loss:  0.8835027411580085\n",
      "Epoch:  49  Train loss:  0.9367495923042297  Valid loss:  0.9692941528558731\n",
      "Epoch:  50  Train loss:  0.9373315690159798  Valid loss:  0.8422740796208381\n",
      "Epoch:  51  Train loss:  0.8737238600850106  Valid loss:  0.8384748816490173\n",
      "Epoch:  52  Train loss:  0.9279212508201599  Valid loss:  0.9945691603422165\n",
      "Epoch:  53  Train loss:  0.8796957712173462  Valid loss:  0.8817053371667862\n",
      "Epoch:  54  Train loss:  0.8863338451981545  Valid loss:  0.8494917535781861\n",
      "Epoch:  55  Train loss:  0.8974004449248314  Valid loss:  0.8407752060890198\n",
      "Epoch:  56  Train loss:  0.9386621435284614  Valid loss:  1.1187630453705788\n",
      "Epoch:  57  Train loss:  1.0030234868824481  Valid loss:  0.8883836376667023\n",
      "Epoch:  58  Train loss:  0.8813441937565804  Valid loss:  0.8680915024876594\n",
      "Epoch:  59  Train loss:  1.1115850672721863  Valid loss:  0.8635733896493911\n"
     ]
    }
   ],
   "source": [
    "from training import train_valid_loop\n",
    "\n",
    "train_loss, valid_loss = train_valid_loop(net, train_dataloader, valid_dataloader, 60)"
   ]
  },
  {
   "cell_type": "code",
   "execution_count": 92,
   "metadata": {},
   "outputs": [
    {
     "data": {
      "image/png": "[encoded data removed]",
      "text/plain": [
       "<Figure size 640x480 with 1 Axes>"
      ]
     },
     "metadata": {},
     "output_type": "display_data"
    }
   ],
   "source": [
    "fig, axes = plt.subplots()\n",
    "axes.plot(range(len(train_loss)),train_loss,label='train loss')\n",
    "axes.plot(range(len(valid_loss)),valid_loss,label='valid loss')\n",
    "#axes.set_yscale('log')\n",
    "#axes.set_ylim([1e-2,1e0])\n",
    "axes.legend()\n",
    "plt.show()"
   ]
  },
  {
   "cell_type": "code",
   "execution_count": 107,
   "metadata": {},
   "outputs": [],
   "source": [
    "preds, trues = [], []\n",
    "\n",
    "for i in range(1000):\n",
    "    g, labels = data.__getitem__(i)\n",
    "    preds.append(net(g).detach().numpy().item())\n",
    "    trues.append(labels.item())"
   ]
  },
  {
   "cell_type": "code",
   "execution_count": 109,
   "metadata": {},
   "outputs": [
    {
     "data": {
      "text/plain": [
       "<matplotlib.collections.PathCollection at 0x2914eadd0>"
      ]
     },
     "execution_count": 109,
     "metadata": {},
     "output_type": "execute_result"
    },
    {
     "data": {
      "image/png": "[encoded data removed]",
      "text/plain": [
       "<Figure size 640x480 with 1 Axes>"
      ]
     },
     "metadata": {},
     "output_type": "display_data"
    }
   ],
   "source": [
    "plt.scatter(trues,preds,s=1)"
   ]
  },
  {
   "cell_type": "code",
   "execution_count": null,
   "metadata": {},
   "outputs": [],
   "source": []
  }
 ],
 "metadata": {
  "kernelspec": {
   "display_name": "base",
   "language": "python",
   "name": "python3"
  },
  "language_info": {
   "codemirror_mode": {
    "name": "ipython",
    "version": 3
   },
   "file_extension": ".py",
   "mimetype": "text/x-python",
   "name": "python",
   "nbconvert_exporter": "python",
   "pygments_lexer": "ipython3",
   "version": "3.10.10"
  },
  "orig_nbformat": 4
 },
 "nbformat": 4,
 "nbformat_minor": 2
}
